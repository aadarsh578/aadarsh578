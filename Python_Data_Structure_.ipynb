{
  "nbformat": 4,
  "nbformat_minor": 0,
  "metadata": {
    "colab": {
      "provenance": []
    },
    "kernelspec": {
      "name": "python3",
      "display_name": "Python 3"
    },
    "language_info": {
      "name": "python"
    }
  },
  "cells": [
    {
      "cell_type": "markdown",
      "source": [
        "## Data Types and Structures Questions"
      ],
      "metadata": {
        "id": "x1qWAm3Ui0hQ"
      }
    },
    {
      "cell_type": "markdown",
      "source": [
        "## 1. What are data structures, and why are they important?\n",
        "  ->\n",
        "\n",
        "  Data structures are specialized formats for organizing, storing, and accessing collections of data. They provide efficient ways to manage information based on its characteristics and intended use.\n",
        "\n",
        " Think of them as containers that hold your data and determine how you can interact with it. Different containers are better suited for different types of items.\n",
        "\n",
        "  #Why are they important?\n",
        "\n",
        "   1.Choosing the right data structure significantly impacts the efficiency and performance of your program.\n",
        "   2. Well-chosen data structures can:\n",
        "\n",
        "       Simplify data manipulation (adding, removing, modifying elements)\n",
        "\n",
        "      Optimize searching and sorting operations\n",
        "\n",
        "      Conserve memory usage.\n",
        "\n"
      ],
      "metadata": {
        "id": "FBbEoy5AHmOj"
      }
    },
    {
      "cell_type": "markdown",
      "source": [
        " ## 2. Explain the difference between mutable and immutable data types with examples.\n",
        "->\n",
        "  The difference between mutable and immutable data types lies in whether the data in an object can be changed after the object is created.\n",
        "\n",
        "# Mutable Data Types\n",
        "   Mutable objects can be changed after they are created. This means you can alter, add, or delete elements without creating a new object.\n",
        "\n",
        "   Ex->  List, Dictionary, Set.\n",
        "\n",
        "# Immutable Data Types\n",
        "   Immutable objects cannot be changed after they are created. If you try to modify them, a new object is created.\n",
        "\n",
        "   Ex->  String, tuples, Integeres, Float, Boolean."
      ],
      "metadata": {
        "id": "yYlwTCcwKfu0"
      }
    },
    {
      "cell_type": "code",
      "source": [
        "# Examples of mutable data types\n",
        "# List\n",
        "L=[1,2,3]"
      ],
      "metadata": {
        "id": "IWF5-WYvLK9f"
      },
      "execution_count": null,
      "outputs": []
    },
    {
      "cell_type": "code",
      "source": [
        "L"
      ],
      "metadata": {
        "colab": {
          "base_uri": "https://localhost:8080/"
        },
        "id": "0vEi-AhXLQQE",
        "outputId": "47e1f713-7f54-4502-b53f-62704bef3029"
      },
      "execution_count": null,
      "outputs": [
        {
          "output_type": "execute_result",
          "data": {
            "text/plain": [
              "[1, 2, 3]"
            ]
          },
          "metadata": {},
          "execution_count": 4
        }
      ]
    },
    {
      "cell_type": "code",
      "source": [
        "L.append(4)"
      ],
      "metadata": {
        "id": "6S9xL-pwL-7g"
      },
      "execution_count": null,
      "outputs": []
    },
    {
      "cell_type": "code",
      "source": [
        "L     # Here, the original list is modified in place by appending an element."
      ],
      "metadata": {
        "colab": {
          "base_uri": "https://localhost:8080/"
        },
        "id": "052jFR3gMEyz",
        "outputId": "c60c8862-b562-4fbf-8758-6eeef754d3ec"
      },
      "execution_count": null,
      "outputs": [
        {
          "output_type": "execute_result",
          "data": {
            "text/plain": [
              "[1, 2, 3, 4]"
            ]
          },
          "metadata": {},
          "execution_count": 7
        }
      ]
    },
    {
      "cell_type": "code",
      "source": [
        "# Dictionary\n",
        "my_dict= {\"a\": 1, \"b\": 2}"
      ],
      "metadata": {
        "id": "a4YxLv2FMFcZ"
      },
      "execution_count": null,
      "outputs": []
    },
    {
      "cell_type": "code",
      "source": [
        "my_dict"
      ],
      "metadata": {
        "colab": {
          "base_uri": "https://localhost:8080/"
        },
        "id": "zvEl6yQ0MhuQ",
        "outputId": "165e69ce-5413-4e7c-e595-0f2d5e3acb48"
      },
      "execution_count": null,
      "outputs": [
        {
          "output_type": "execute_result",
          "data": {
            "text/plain": [
              "{'a': 1, 'b': 2}"
            ]
          },
          "metadata": {},
          "execution_count": 14
        }
      ]
    },
    {
      "cell_type": "code",
      "source": [
        "my_dict[\"c\"]=3"
      ],
      "metadata": {
        "id": "xp7hCVGwM9cH"
      },
      "execution_count": null,
      "outputs": []
    },
    {
      "cell_type": "code",
      "source": [
        "my_dict   # Here, the original dictionary is modified by adding an element."
      ],
      "metadata": {
        "colab": {
          "base_uri": "https://localhost:8080/"
        },
        "id": "L9rmDtODNBYR",
        "outputId": "c19e27b5-8a2b-4e52-b5ae-e490cdf0be4e"
      },
      "execution_count": null,
      "outputs": [
        {
          "output_type": "execute_result",
          "data": {
            "text/plain": [
              "{'a': 1, 'b': 2, 'c': 3}"
            ]
          },
          "metadata": {},
          "execution_count": 17
        }
      ]
    },
    {
      "cell_type": "code",
      "source": [
        "# Set\n",
        "my_set = {1,2,3,4}"
      ],
      "metadata": {
        "id": "8ACOtEVGNC7W"
      },
      "execution_count": null,
      "outputs": []
    },
    {
      "cell_type": "code",
      "source": [
        "my_set"
      ],
      "metadata": {
        "colab": {
          "base_uri": "https://localhost:8080/"
        },
        "id": "d7nOkYihNgpd",
        "outputId": "548054a5-651d-4528-a4f1-9a40b1223da3"
      },
      "execution_count": null,
      "outputs": [
        {
          "output_type": "execute_result",
          "data": {
            "text/plain": [
              "{1, 2, 3, 4}"
            ]
          },
          "metadata": {},
          "execution_count": 19
        }
      ]
    },
    {
      "cell_type": "code",
      "source": [
        "my_set.add(5)      #Here, the set is modified by adding 5 in this.\n",
        "my_set"
      ],
      "metadata": {
        "colab": {
          "base_uri": "https://localhost:8080/"
        },
        "id": "RtjBBSQzNhj1",
        "outputId": "d160ccee-c3b0-4506-b852-3801928cf0fe"
      },
      "execution_count": null,
      "outputs": [
        {
          "output_type": "execute_result",
          "data": {
            "text/plain": [
              "{1, 2, 3, 4, 5}"
            ]
          },
          "metadata": {},
          "execution_count": 22
        }
      ]
    },
    {
      "cell_type": "code",
      "source": [
        "#Examples of Immutable Data Types\n",
        "# String\n",
        "my_str = \"hello\"\n",
        "my_str"
      ],
      "metadata": {
        "colab": {
          "base_uri": "https://localhost:8080/",
          "height": 36
        },
        "id": "42OIyGtxNlw5",
        "outputId": "88583e3f-42cf-415a-e79e-ae61d084e7fb"
      },
      "execution_count": null,
      "outputs": [
        {
          "output_type": "execute_result",
          "data": {
            "text/plain": [
              "'hello'"
            ],
            "application/vnd.google.colaboratory.intrinsic+json": {
              "type": "string"
            }
          },
          "metadata": {},
          "execution_count": 24
        }
      ]
    },
    {
      "cell_type": "code",
      "source": [
        "new_str = my_str.upper()      #upper() returns a new string; my_str remains unchanged.\n",
        "new_str"
      ],
      "metadata": {
        "colab": {
          "base_uri": "https://localhost:8080/",
          "height": 36
        },
        "id": "gxT74hfXONal",
        "outputId": "b7032333-c305-4ac1-d149-7a7084a4560c"
      },
      "execution_count": null,
      "outputs": [
        {
          "output_type": "execute_result",
          "data": {
            "text/plain": [
              "'HELLO'"
            ],
            "application/vnd.google.colaboratory.intrinsic+json": {
              "type": "string"
            }
          },
          "metadata": {},
          "execution_count": 28
        }
      ]
    },
    {
      "cell_type": "code",
      "source": [
        "# Tuple\n",
        "my_tuple = (1,2,3,4)\n",
        "my_tuple"
      ],
      "metadata": {
        "colab": {
          "base_uri": "https://localhost:8080/"
        },
        "id": "fFf7TBM_OaWn",
        "outputId": "19c54b29-04df-4a8f-a94a-acb533fa31ba"
      },
      "execution_count": null,
      "outputs": [
        {
          "output_type": "execute_result",
          "data": {
            "text/plain": [
              "(1, 2, 3, 4)"
            ]
          },
          "metadata": {},
          "execution_count": 29
        }
      ]
    },
    {
      "cell_type": "code",
      "source": [
        "my_tuple[0]    # here 0 element is 1 but when we change 1 this will show us error because it is immutbale."
      ],
      "metadata": {
        "colab": {
          "base_uri": "https://localhost:8080/"
        },
        "id": "nQthoLLMO35x",
        "outputId": "dc152d7c-00e4-41b2-8e3d-68ba010ae284"
      },
      "execution_count": null,
      "outputs": [
        {
          "output_type": "execute_result",
          "data": {
            "text/plain": [
              "1"
            ]
          },
          "metadata": {},
          "execution_count": 31
        }
      ]
    },
    {
      "cell_type": "code",
      "source": [
        "my_tuple[0]=10"
      ],
      "metadata": {
        "colab": {
          "base_uri": "https://localhost:8080/",
          "height": 141
        },
        "id": "21v3XvzuO8kk",
        "outputId": "8b1d1696-8b5c-4324-998f-2cd221348b5c"
      },
      "execution_count": null,
      "outputs": [
        {
          "output_type": "error",
          "ename": "TypeError",
          "evalue": "'tuple' object does not support item assignment",
          "traceback": [
            "\u001b[0;31m---------------------------------------------------------------------------\u001b[0m",
            "\u001b[0;31mTypeError\u001b[0m                                 Traceback (most recent call last)",
            "\u001b[0;32m<ipython-input-32-6c8f820aae36>\u001b[0m in \u001b[0;36m<cell line: 0>\u001b[0;34m()\u001b[0m\n\u001b[0;32m----> 1\u001b[0;31m \u001b[0mmy_tuple\u001b[0m\u001b[0;34m[\u001b[0m\u001b[0;36m0\u001b[0m\u001b[0;34m]\u001b[0m\u001b[0;34m=\u001b[0m\u001b[0;36m10\u001b[0m\u001b[0;34m\u001b[0m\u001b[0;34m\u001b[0m\u001b[0m\n\u001b[0m",
            "\u001b[0;31mTypeError\u001b[0m: 'tuple' object does not support item assignment"
          ]
        }
      ]
    },
    {
      "cell_type": "code",
      "source": [
        "#Int, Float, Bool\n",
        "x=5\n",
        "y= x+1"
      ],
      "metadata": {
        "id": "qEyGVtq2PN68"
      },
      "execution_count": null,
      "outputs": []
    },
    {
      "cell_type": "code",
      "source": [
        "print(x)      # Here, x is not changed; a new int object is created for y\n",
        "print(y)"
      ],
      "metadata": {
        "colab": {
          "base_uri": "https://localhost:8080/"
        },
        "id": "Ick3zNrSPY0n",
        "outputId": "5fffd4e1-fb34-46b1-be25-ec639fa9abcd"
      },
      "execution_count": null,
      "outputs": [
        {
          "output_type": "stream",
          "name": "stdout",
          "text": [
            "5\n",
            "6\n"
          ]
        }
      ]
    },
    {
      "cell_type": "markdown",
      "source": [
        "## 3. What are the main differences between lists and tuples in Python.\n",
        "  ->\n",
        "     lists and tuples are both used to store collections of items, but they have several key differences:\n",
        "  1. Performance\n",
        "\n",
        "     Tuples are slightly faster than lists for iteration and access because they are immutable and their structure is fixed.\n",
        "    \n",
        "  2. Use Case\n",
        "\n",
        "   List: When you need a collection of items that can change (e.g., a shopping cart).\n",
        "\n",
        "  Tuple: When you need a fixed collection that should not change (e.g., coordinates, days of the week).\n",
        "\n",
        "3. Methods\n",
        "\n",
        "  Lists have more built-in methods like .append(), .remove(), .sort(), etc.\n",
        "\n",
        "  Tuples have very few methods — mainly .count() and .index().\n",
        "\n",
        "  \n",
        "    "
      ],
      "metadata": {
        "id": "uNL3guYrQmcE"
      }
    },
    {
      "cell_type": "code",
      "source": [
        "# 4. Syntax\n",
        "# List:Defined using square brackets [].\n",
        "# Tuple: Defined using parentheses ().\n",
        "my_list= [1,2,3,4]\n",
        "my_tuple=(1,2,3,4)"
      ],
      "metadata": {
        "id": "Ulm74xASRd-0"
      },
      "execution_count": null,
      "outputs": []
    },
    {
      "cell_type": "code",
      "source": [
        "# 5.  Mutability\n",
        "# List: Mutable (can be changed after creation).\n",
        "my_list= [1,2,3]\n",
        "my_list[0]=10\n",
        "my_list"
      ],
      "metadata": {
        "colab": {
          "base_uri": "https://localhost:8080/"
        },
        "id": "0vAHyCMvSECs",
        "outputId": "dfd9d423-0c2c-489e-8c21-47a5bc841015"
      },
      "execution_count": null,
      "outputs": [
        {
          "output_type": "execute_result",
          "data": {
            "text/plain": [
              "[10, 2, 3]"
            ]
          },
          "metadata": {},
          "execution_count": 38
        }
      ]
    },
    {
      "cell_type": "code",
      "source": [
        "# Tuple: Immutable (cannot be changed after creation).\n",
        "my_tuple = (1, 2, 3)\n",
        "my_tuple[0] = 10    # This will raise a TypeError as it is immutable"
      ],
      "metadata": {
        "colab": {
          "base_uri": "https://localhost:8080/",
          "height": 176
        },
        "id": "15l_aWLDSkWZ",
        "outputId": "0ab70020-30a9-41d1-e80f-943e16448e8a"
      },
      "execution_count": null,
      "outputs": [
        {
          "output_type": "error",
          "ename": "TypeError",
          "evalue": "'tuple' object does not support item assignment",
          "traceback": [
            "\u001b[0;31m---------------------------------------------------------------------------\u001b[0m",
            "\u001b[0;31mTypeError\u001b[0m                                 Traceback (most recent call last)",
            "\u001b[0;32m<ipython-input-39-4c90319e5669>\u001b[0m in \u001b[0;36m<cell line: 0>\u001b[0;34m()\u001b[0m\n\u001b[1;32m      1\u001b[0m \u001b[0;31m# Tuple: Immutable (cannot be changed after creation).\u001b[0m\u001b[0;34m\u001b[0m\u001b[0;34m\u001b[0m\u001b[0m\n\u001b[1;32m      2\u001b[0m \u001b[0mmy_tuple\u001b[0m \u001b[0;34m=\u001b[0m \u001b[0;34m(\u001b[0m\u001b[0;36m1\u001b[0m\u001b[0;34m,\u001b[0m \u001b[0;36m2\u001b[0m\u001b[0;34m,\u001b[0m \u001b[0;36m3\u001b[0m\u001b[0;34m)\u001b[0m\u001b[0;34m\u001b[0m\u001b[0;34m\u001b[0m\u001b[0m\n\u001b[0;32m----> 3\u001b[0;31m \u001b[0mmy_tuple\u001b[0m\u001b[0;34m[\u001b[0m\u001b[0;36m0\u001b[0m\u001b[0;34m]\u001b[0m \u001b[0;34m=\u001b[0m \u001b[0;36m10\u001b[0m\u001b[0;34m\u001b[0m\u001b[0;34m\u001b[0m\u001b[0m\n\u001b[0m",
            "\u001b[0;31mTypeError\u001b[0m: 'tuple' object does not support item assignment"
          ]
        }
      ]
    },
    {
      "cell_type": "code",
      "source": [
        "#6. Nested Mutability\n",
        "# Tuples themselves are immutable, but they can contain mutable objects:\n",
        "my_tuple = ([1, 2], 3)\n",
        "my_tuple[0].append(4)"
      ],
      "metadata": {
        "id": "1G4JuTkmSyYd"
      },
      "execution_count": null,
      "outputs": []
    },
    {
      "cell_type": "code",
      "source": [
        "my_tuple       #we use [] for list and list is mutable"
      ],
      "metadata": {
        "colab": {
          "base_uri": "https://localhost:8080/"
        },
        "id": "Qa3RqHf6THtf",
        "outputId": "1fcc8ad7-a295-4c47-9a1b-b8bcdb993c9e"
      },
      "execution_count": null,
      "outputs": [
        {
          "output_type": "execute_result",
          "data": {
            "text/plain": [
              "([1, 2, 4], 3)"
            ]
          },
          "metadata": {},
          "execution_count": 42
        }
      ]
    },
    {
      "cell_type": "markdown",
      "source": [
        "## 4. Describe how dictionaries store data.\n",
        "->  \n",
        "  Dictionaries store data as key-value pairs, using a hash table under the hood for efficient lookups."
      ],
      "metadata": {
        "id": "4gCOimQVOrVO"
      }
    },
    {
      "cell_type": "code",
      "source": [
        "my_dict = {\"name\": \"Alice\", \"age\": 30, \"city\": \"New York\"}\n",
        "my_dict\n",
        "\n"
      ],
      "metadata": {
        "colab": {
          "base_uri": "https://localhost:8080/"
        },
        "id": "Z7FAiL_kPd6c",
        "outputId": "29423e5e-b555-4111-eeb5-1befd875b969"
      },
      "execution_count": null,
      "outputs": [
        {
          "output_type": "execute_result",
          "data": {
            "text/plain": [
              "{'name': 'Alice', 'age': 30, 'city': 'New York'}"
            ]
          },
          "metadata": {},
          "execution_count": 2
        }
      ]
    },
    {
      "cell_type": "markdown",
      "source": [
        "# How It Works Internally\n",
        "1. Hashing:\n",
        "\n",
        "Python takes the key (e.g., \"name\"), runs it through a hash function, and gets a hash value.\n",
        "\n",
        "This value points to a specific bucket in the hash table.\n",
        "\n",
        "2. Storage:\n",
        "\n",
        "The key and its associated value are stored in that bucket.\n",
        "\n",
        "If two keys hash to the same location (collision), Python handles it efficiently using open addressing or chaining.\n",
        "\n",
        "3. Lookup Speed:\n",
        "\n",
        "Dictionary access is very fast (on average O(1) time complexity) because of this hashing mechanism.\n",
        "\n",
        "\n",
        "# Key Points\n",
        "\n",
        " Keys must be hashable (i.e., immutable types like strings, numbers, tuples).\n",
        "\n",
        "Values can be any type (mutable or immutable).\n",
        "\n",
        "Order is preserved as of Python 3.7+ (insertion order is remembered).\n",
        "\n"
      ],
      "metadata": {
        "id": "ttSaXCC7QBNC"
      }
    },
    {
      "cell_type": "code",
      "source": [],
      "metadata": {
        "id": "Z24sHn4NQZaL"
      },
      "execution_count": null,
      "outputs": []
    },
    {
      "cell_type": "markdown",
      "source": [
        "## 5. Why might you use a set instead of a list in Python?\n",
        "->\n",
        "  Sets and lists are used to store collections of items in Python, but they serve different purposes and have key differences that make sets more suitable in certain situations.\n",
        "\n",
        "  # Key Differences Between Sets and Lists\n",
        "\n",
        " ordering of list is ordered and ordering of sets is unordered.\n",
        "\n",
        " List allows duplicates and sets don't allowed duplicates.\n",
        "\n",
        " Lists are mutable and sets are immutable.\n",
        "\n",
        " List supports indexing or slicing and sets don't support.\n",
        "\n",
        " List structure is dynamic array and sets structure are hash table(like dictionary).\n",
        "\n",
        " # When to Use a Set Instead of a List"
      ],
      "metadata": {
        "id": "EyokKdI_Qdjr"
      }
    },
    {
      "cell_type": "code",
      "source": [
        "# 1. Eliminating Duplicates : If you need a collection of unique items, sets automatically remove duplicates.\n",
        "my_list = [1, 2, 2, 3, 4, 4]\n",
        "my_set = set(my_list)\n",
        "print(my_set)"
      ],
      "metadata": {
        "colab": {
          "base_uri": "https://localhost:8080/"
        },
        "id": "pYInLCgXS82Y",
        "outputId": "ec27337c-c0c3-49a6-9062-7ca4c63f70ee"
      },
      "execution_count": null,
      "outputs": [
        {
          "output_type": "stream",
          "name": "stdout",
          "text": [
            "{1, 2, 3, 4}\n"
          ]
        }
      ]
    },
    {
      "cell_type": "code",
      "source": [
        "# 2.  Fast Membership Testing\n",
        "# Sets use hashing, making operations like checking if an item exists (in operator) much faster (average O(1)) compared to lists (O(n)).\n",
        "my_list = [1, 2, 3, 4]\n",
        "my_set = {1, 2, 3, 4}\n",
        "print(3 in my_list)      # slower\n",
        "print(3 in my_set)       # faster"
      ],
      "metadata": {
        "colab": {
          "base_uri": "https://localhost:8080/"
        },
        "id": "XeoM_UesTSlh",
        "outputId": "f6551ce8-11a2-49c0-da9f-363c12d1da91"
      },
      "execution_count": null,
      "outputs": [
        {
          "output_type": "stream",
          "name": "stdout",
          "text": [
            "True\n",
            "True\n"
          ]
        }
      ]
    },
    {
      "cell_type": "code",
      "source": [
        "# 3. Mathematical Set Operations\n",
        "# Sets support operations like union, intersection, difference, and symmetric difference, which are helpful for comparing datasets.\n",
        "a = {1, 2, 3}\n",
        "b = {3, 4, 5}"
      ],
      "metadata": {
        "id": "I-O6Cm2CTnuu"
      },
      "execution_count": null,
      "outputs": []
    },
    {
      "cell_type": "code",
      "source": [
        "print(a&b)     # Intersection"
      ],
      "metadata": {
        "colab": {
          "base_uri": "https://localhost:8080/"
        },
        "id": "g4iemKJmT8-z",
        "outputId": "6437c62a-41ed-411d-9d70-b931a55755b5"
      },
      "execution_count": null,
      "outputs": [
        {
          "output_type": "stream",
          "name": "stdout",
          "text": [
            "{3}\n"
          ]
        }
      ]
    },
    {
      "cell_type": "code",
      "source": [
        "print(a|b)    # union"
      ],
      "metadata": {
        "colab": {
          "base_uri": "https://localhost:8080/"
        },
        "id": "wIgQ5tVbUBwD",
        "outputId": "f27f9c4c-a730-4d1e-bd00-4d568e6691ce"
      },
      "execution_count": null,
      "outputs": [
        {
          "output_type": "stream",
          "name": "stdout",
          "text": [
            "{1, 2, 3, 4, 5}\n"
          ]
        }
      ]
    },
    {
      "cell_type": "code",
      "source": [
        "print(a - b)    # Difference"
      ],
      "metadata": {
        "colab": {
          "base_uri": "https://localhost:8080/"
        },
        "id": "jEh6xJUZUN8A",
        "outputId": "e6107608-c24e-4946-b667-ad2b5e9b3df4"
      },
      "execution_count": null,
      "outputs": [
        {
          "output_type": "stream",
          "name": "stdout",
          "text": [
            "{1, 2}\n"
          ]
        }
      ]
    },
    {
      "cell_type": "code",
      "source": [
        "print(a ^ b)   # Symmetric Difference"
      ],
      "metadata": {
        "colab": {
          "base_uri": "https://localhost:8080/"
        },
        "id": "8xAmMb6OUVzs",
        "outputId": "1d8a01ec-7d2b-4680-9e6e-dce4ee718827"
      },
      "execution_count": null,
      "outputs": [
        {
          "output_type": "stream",
          "name": "stdout",
          "text": [
            "{1, 2, 4, 5}\n"
          ]
        }
      ]
    },
    {
      "cell_type": "code",
      "source": [
        "#4. Memory Efficiency for Unique Data\n",
        "# If you only need to store unique values, sets can be more memory-efficient than lists with many duplicates.\n",
        "\n",
        "#5. Removing Duplicates from Lists\n",
        "# Quickly clean a list of duplicates using:\n",
        "unique_items = list(set(my_list))"
      ],
      "metadata": {
        "id": "N1DFKziTUasm"
      },
      "execution_count": null,
      "outputs": []
    },
    {
      "cell_type": "markdown",
      "source": [
        "# When Not to Use a Set\n",
        "If order matters or you need to store duplicates, a list is the better choice.\n",
        "\n",
        "Sets do not support indexing, so if you need to access items by position, lists are required."
      ],
      "metadata": {
        "id": "MqQcedW7U9wv"
      }
    },
    {
      "cell_type": "code",
      "source": [],
      "metadata": {
        "id": "VVErivziVEwx"
      },
      "execution_count": null,
      "outputs": []
    },
    {
      "cell_type": "markdown",
      "source": [
        "## 6. What is a string in Python, and how is it different from a list?\n",
        "->\n",
        "A string is an immutable sequence of characters used to represent text.\n",
        "\n",
        "String defines with quotes (single ', double \", triple ''' for multiline.)\n",
        "\n"
      ],
      "metadata": {
        "id": "zxFAm258VF2S"
      }
    },
    {
      "cell_type": "code",
      "source": [
        "my_str= \"hello World\"\n",
        "my_str[0]"
      ],
      "metadata": {
        "colab": {
          "base_uri": "https://localhost:8080/",
          "height": 36
        },
        "id": "BNnbaGAoWkr5",
        "outputId": "c0a6d840-8f4e-4695-c926-1de564f7f6f7"
      },
      "execution_count": null,
      "outputs": [
        {
          "output_type": "execute_result",
          "data": {
            "text/plain": [
              "'h'"
            ],
            "application/vnd.google.colaboratory.intrinsic+json": {
              "type": "string"
            }
          },
          "metadata": {},
          "execution_count": 12
        }
      ]
    },
    {
      "cell_type": "markdown",
      "source": [
        "#  String vs List – Key Differences\n",
        "Data type of string is Text(characters) and Data type of list is any type (int, str, list, etc)\n",
        "\n",
        "Syntax of String is Quotation marks and syntax of list is Square brackets.\n",
        "\n",
        "String is immutable and list is mutable.\n",
        "\n",
        "methods of string is Text-focused (.upper(), .split()) and method of list is\tGeneral-purpose (.append(), .pop())\n",
        "\n"
      ],
      "metadata": {
        "id": "AFHMkBK-W0wG"
      }
    },
    {
      "cell_type": "code",
      "source": [
        "# Example\n",
        "# String example      # in string you can change letters in a word\n",
        "name = \"Alice\"\n",
        "print(name[1])\n"
      ],
      "metadata": {
        "colab": {
          "base_uri": "https://localhost:8080/"
        },
        "id": "N1f1EP6eXYjY",
        "outputId": "5c070c41-54f9-4e28-bae4-3ad3320aede2"
      },
      "execution_count": null,
      "outputs": [
        {
          "output_type": "stream",
          "name": "stdout",
          "text": [
            "l\n"
          ]
        }
      ]
    },
    {
      "cell_type": "code",
      "source": [
        "# List example\n",
        "fruits = [\"apple\", \"banana\", \"cherry\"]   # in list you have to change whole element\n",
        "print(fruits[1])"
      ],
      "metadata": {
        "colab": {
          "base_uri": "https://localhost:8080/"
        },
        "id": "u2zDAxE-YKnO",
        "outputId": "9da4788c-7d7d-4efe-8f01-50874ff2c3c9"
      },
      "execution_count": null,
      "outputs": [
        {
          "output_type": "stream",
          "name": "stdout",
          "text": [
            "banana\n"
          ]
        }
      ]
    },
    {
      "cell_type": "markdown",
      "source": [
        "## 7. How do tuples ensure data integrity in Python?\n",
        "-> A tuple is an immutable, ordered collection of items. This immutability is exactly what helps ensure data integrity.\n",
        "\n",
        "1. Immutability = Protection from Modification\n",
        "Once a tuple is created, its contents cannot be changed — you cannot:\n",
        " Add items,\n",
        " Remove items,\n",
        " Change existing items.\n"
      ],
      "metadata": {
        "id": "Wk_mA5VpYtN8"
      }
    },
    {
      "cell_type": "code",
      "source": [
        "data = (42, \"Alice\", True)   # 'tuple' object does not support item assignment\n",
        "data[0] = 99"
      ],
      "metadata": {
        "colab": {
          "base_uri": "https://localhost:8080/",
          "height": 158
        },
        "id": "0IgCu6I4Zcgb",
        "outputId": "544122f6-f3e2-42ea-d30b-a5b5a05009dd"
      },
      "execution_count": null,
      "outputs": [
        {
          "output_type": "error",
          "ename": "TypeError",
          "evalue": "'tuple' object does not support item assignment",
          "traceback": [
            "\u001b[0;31m---------------------------------------------------------------------------\u001b[0m",
            "\u001b[0;31mTypeError\u001b[0m                                 Traceback (most recent call last)",
            "\u001b[0;32m<ipython-input-16-5263c12cabd0>\u001b[0m in \u001b[0;36m<cell line: 0>\u001b[0;34m()\u001b[0m\n\u001b[1;32m      1\u001b[0m \u001b[0mdata\u001b[0m \u001b[0;34m=\u001b[0m \u001b[0;34m(\u001b[0m\u001b[0;36m42\u001b[0m\u001b[0;34m,\u001b[0m \u001b[0;34m\"Alice\"\u001b[0m\u001b[0;34m,\u001b[0m \u001b[0;32mTrue\u001b[0m\u001b[0;34m)\u001b[0m\u001b[0;34m\u001b[0m\u001b[0;34m\u001b[0m\u001b[0m\n\u001b[0;32m----> 2\u001b[0;31m \u001b[0mdata\u001b[0m\u001b[0;34m[\u001b[0m\u001b[0;36m0\u001b[0m\u001b[0;34m]\u001b[0m \u001b[0;34m=\u001b[0m \u001b[0;36m99\u001b[0m\u001b[0;34m\u001b[0m\u001b[0;34m\u001b[0m\u001b[0m\n\u001b[0m",
            "\u001b[0;31mTypeError\u001b[0m: 'tuple' object does not support item assignment"
          ]
        }
      ]
    },
    {
      "cell_type": "code",
      "source": [
        "#2. Ideal for Fixed Records (e.g., Coordinates, RGB, Configurations)\n",
        "# When you want to define a \"record\" — a fixed structure with a known format — a tuple ensures that structure stays consistent.\n",
        "user_record = (101, \"Alice\", \"admin\")\n",
        "user_record"
      ],
      "metadata": {
        "colab": {
          "base_uri": "https://localhost:8080/"
        },
        "id": "XSmsdxQTZf0c",
        "outputId": "54c655de-e490-4810-b54e-6a538ea061cc"
      },
      "execution_count": null,
      "outputs": [
        {
          "output_type": "execute_result",
          "data": {
            "text/plain": [
              "(101, 'Alice', 'admin')"
            ]
          },
          "metadata": {},
          "execution_count": 18
        }
      ]
    },
    {
      "cell_type": "code",
      "source": [
        "#3. Hashable: Can Be Used as Dictionary Keys\n",
        "# Since tuples are immutable, they are hashable — meaning they can be used as keys in a dictionary or elements of a set. Lists can't.\n",
        "location_data = {(35.6895, 139.6917): \"Tokyo\", (40.7128, -74.0060): \"New York\"}\n",
        "location_data"
      ],
      "metadata": {
        "colab": {
          "base_uri": "https://localhost:8080/"
        },
        "id": "gDJBpMeUZvzz",
        "outputId": "c839331d-cae7-4a05-8535-9f89dc831501"
      },
      "execution_count": null,
      "outputs": [
        {
          "output_type": "execute_result",
          "data": {
            "text/plain": [
              "{(35.6895, 139.6917): 'Tokyo', (40.7128, -74.006): 'New York'}"
            ]
          },
          "metadata": {},
          "execution_count": 19
        }
      ]
    },
    {
      "cell_type": "markdown",
      "source": [
        "# 4. Safer to Share Between Functions or Threads\n",
        "Because tuples can't be modified, they're thread-safe and function-safe. You can pass a tuple into a function or across threads without worrying about it being altered somewhere else in the program.\n",
        "\n",
        "#5. Makes Code Intentions Clear\n",
        "Using a tuple communicates that:\n",
        "\n",
        "The data is not meant to change.\n",
        "\n",
        "The structure of the data is fixed."
      ],
      "metadata": {
        "id": "dedoQtPTaKtZ"
      }
    },
    {
      "cell_type": "markdown",
      "source": [
        "## 8. What is a hash table, and how does it relate to dictionaries in Python?\n",
        "->\n",
        " A hash table is a data structure that maps keys to values using a process called hashing. It allows for constant-time complexity (O(1)) for insertion, deletion, and lookups in the best case.\n",
        "\n",
        "# Hash Table = Key -> Hash -> Index -> Value\n",
        "\n",
        "Key → You start with a key, like \"username\".\n",
        "\n",
        "Hash Function → The key is passed through a hash function, which converts it to a unique number (the hash).\n",
        "\n",
        "Indexing → The hash is mapped to an index in an internal array using modulo (%) based on the array size\n",
        "\n",
        "Storage → The key and its associated value are stored at that index.\n",
        "\n",
        "\n",
        "\n"
      ],
      "metadata": {
        "id": "VqZ3p61yaXZr"
      }
    },
    {
      "cell_type": "code",
      "source": [
        "person = {\"name\": \"Alice\", \"age\": 30}    #\"name\" is hashed. Python finds an index in its internal storage.  The pair is stored efficiently.\n",
        "person"
      ],
      "metadata": {
        "colab": {
          "base_uri": "https://localhost:8080/"
        },
        "id": "RKJW0Lg3bXlp",
        "outputId": "8354ca74-fbe7-45c5-e593-7927e29df678"
      },
      "execution_count": null,
      "outputs": [
        {
          "output_type": "execute_result",
          "data": {
            "text/plain": [
              "{'name': 'Alice', 'age': 30}"
            ]
          },
          "metadata": {},
          "execution_count": 21
        }
      ]
    },
    {
      "cell_type": "code",
      "source": [],
      "metadata": {
        "id": "QxwIyDElb2n8"
      },
      "execution_count": null,
      "outputs": []
    },
    {
      "cell_type": "markdown",
      "source": [
        "## 9. Can lists contain different data types in Python?\n",
        "->\n",
        "lists in Python can contain elements of different data types like:\n",
        "Integers\n",
        "\n",
        "Strings\n",
        "\n",
        "Floats\n",
        "\n",
        "Booleans\n",
        "\n",
        "Lists (nested)\n",
        "\n",
        "Dictionaries\n",
        "\n",
        "Tuples\n",
        "\n",
        "Functions\n",
        "\n",
        "Even custom objects!\n"
      ],
      "metadata": {
        "id": "RQAl_rZMbwbH"
      }
    },
    {
      "cell_type": "code",
      "source": [
        "# Examples\n",
        "mixed_list = [42, \"hello\", 3.14, True, [1, 2], {\"key\": \"value\"}, (5, 6)]\n",
        "mixed_list"
      ],
      "metadata": {
        "colab": {
          "base_uri": "https://localhost:8080/"
        },
        "id": "y4fetUS2cisH",
        "outputId": "c3512307-42e0-4ccf-bfcf-4b0e7021f62e"
      },
      "execution_count": null,
      "outputs": [
        {
          "output_type": "execute_result",
          "data": {
            "text/plain": [
              "[42, 'hello', 3.14, True, [1, 2], {'key': 'value'}, (5, 6)]"
            ]
          },
          "metadata": {},
          "execution_count": 22
        }
      ]
    },
    {
      "cell_type": "markdown",
      "source": [
        "## 10. Explain why strings are immutable in Python?\n",
        "->\n",
        " An immutable object is one whose state cannot be changed after it is created.\n"
      ],
      "metadata": {
        "id": "dz5jtoFwcwPr"
      }
    },
    {
      "cell_type": "code",
      "source": [
        "# Example\n",
        "s = \"hello\"\n",
        "s[0] = \"H\""
      ],
      "metadata": {
        "colab": {
          "base_uri": "https://localhost:8080/",
          "height": 176
        },
        "id": "g2Vzg8RNdMDu",
        "outputId": "55e97e9f-1352-45aa-d707-d4a2e1ed77d1"
      },
      "execution_count": null,
      "outputs": [
        {
          "output_type": "error",
          "ename": "TypeError",
          "evalue": "'str' object does not support item assignment",
          "traceback": [
            "\u001b[0;31m---------------------------------------------------------------------------\u001b[0m",
            "\u001b[0;31mTypeError\u001b[0m                                 Traceback (most recent call last)",
            "\u001b[0;32m<ipython-input-23-d71a3390871a>\u001b[0m in \u001b[0;36m<cell line: 0>\u001b[0;34m()\u001b[0m\n\u001b[1;32m      1\u001b[0m \u001b[0;31m# Example\u001b[0m\u001b[0;34m\u001b[0m\u001b[0;34m\u001b[0m\u001b[0m\n\u001b[1;32m      2\u001b[0m \u001b[0ms\u001b[0m \u001b[0;34m=\u001b[0m \u001b[0;34m\"hello\"\u001b[0m\u001b[0;34m\u001b[0m\u001b[0;34m\u001b[0m\u001b[0m\n\u001b[0;32m----> 3\u001b[0;31m \u001b[0ms\u001b[0m\u001b[0;34m[\u001b[0m\u001b[0;36m0\u001b[0m\u001b[0;34m]\u001b[0m \u001b[0;34m=\u001b[0m \u001b[0;34m\"H\"\u001b[0m\u001b[0;34m\u001b[0m\u001b[0;34m\u001b[0m\u001b[0m\n\u001b[0m",
            "\u001b[0;31mTypeError\u001b[0m: 'str' object does not support item assignment"
          ]
        }
      ]
    },
    {
      "cell_type": "markdown",
      "source": [
        " # Why Are Strings Immutable?\n",
        " 1. Safety & Predictability\n",
        "Strings are used everywhere in Python — from variable names to file paths to web data. Making them immutable ensures:\n",
        "\n",
        "   They don’t change unexpectedly if passed to functions.\n",
        "\n",
        "   They remain consistent when shared between parts of a program (or even threads).\n"
      ],
      "metadata": {
        "id": "hM-j6GkZdUL7"
      }
    },
    {
      "cell_type": "code",
      "source": [
        "username = \"alice\"\n",
        "print(username)\n"
      ],
      "metadata": {
        "colab": {
          "base_uri": "https://localhost:8080/"
        },
        "id": "kAeYNqH8dPfa",
        "outputId": "691df9e6-aa07-4fea-ae1d-6259b2a47977"
      },
      "execution_count": null,
      "outputs": [
        {
          "output_type": "stream",
          "name": "stdout",
          "text": [
            "alice\n"
          ]
        }
      ]
    },
    {
      "cell_type": "markdown",
      "source": [
        " 2. Hashing & Dictionary Keys\n",
        "\n",
        "Immutable objects like strings can be hashed. That’s how they work as keys in dictionaries and elements in sets.\n",
        "my_dict= {\"username\": \"alice\"}\n",
        "\n",
        "3. Performance Optimizations\n",
        "   Because they’re immutable, strings can:\n",
        "\n",
        "   Be interned (shared in memory if identical).\n",
        "\n",
        "   Enable safe memory caching and constant-time access.\n",
        "\n",
        "   Python can optimize memory by reusing the same string objects."
      ],
      "metadata": {
        "id": "08qfw30IebVw"
      }
    },
    {
      "cell_type": "code",
      "source": [
        "a = \"hello\"\n",
        "b = \"hello\"\n",
        "print(a is b)"
      ],
      "metadata": {
        "colab": {
          "base_uri": "https://localhost:8080/"
        },
        "id": "ruD8bCYpetQ5",
        "outputId": "dc1c5ac8-ed50-4f62-8624-15659390d4e1"
      },
      "execution_count": null,
      "outputs": [
        {
          "output_type": "stream",
          "name": "stdout",
          "text": [
            "True\n"
          ]
        }
      ]
    },
    {
      "cell_type": "code",
      "source": [],
      "metadata": {
        "id": "8dwRpmcCeyFJ"
      },
      "execution_count": null,
      "outputs": []
    },
    {
      "cell_type": "markdown",
      "source": [
        "## 11. What advantages do dictionaries offer over lists for certain tasks?\n",
        "->\n",
        "Dictionaries vs. Lists — What’s the Core Difference?\n",
        "\n",
        "A list is an ordered collection of items accessed by index.\n",
        "\n",
        "A dictionary is an unordered (now insertion-ordered in Python 3.7+) collection of key-value pairs, accessed by key.\n",
        "\n",
        "fruits = [\"apple\", \"banana\", \"cherry\"]\n",
        "person = {\"name\": \"Alice\", \"age\": 30}\n",
        "\n",
        "# Advantages of Dictionaries Over Lists\n",
        "1.Faster Lookups by Key\n",
        "\n",
        "Dictionaries use hash tables, so they can look up a value in O(1) time (on average).\n",
        "\n",
        "Lists require O(n) time to search because they check each element until they find a match."
      ],
      "metadata": {
        "id": "Vd22Dmkpe5-c"
      }
    },
    {
      "cell_type": "code",
      "source": [
        "phonebook = {\"Alice\": \"1234\", \"Bob\": \"5678\"}     #Fast\n",
        "print(phonebook[\"Alice\"])"
      ],
      "metadata": {
        "colab": {
          "base_uri": "https://localhost:8080/"
        },
        "id": "w0IagvBYfpyJ",
        "outputId": "febe4907-681e-4083-a3b1-3dfdcc3ce59b"
      },
      "execution_count": null,
      "outputs": [
        {
          "output_type": "stream",
          "name": "stdout",
          "text": [
            "1234\n"
          ]
        }
      ]
    },
    {
      "cell_type": "code",
      "source": [
        "contacts = [(\"Alice\", \"1234\"), (\"Bob\", \"5678\")]  # Have to loop through the list to find Alice"
      ],
      "metadata": {
        "id": "yo9gu_AXftCt"
      },
      "execution_count": null,
      "outputs": []
    },
    {
      "cell_type": "markdown",
      "source": [
        "2. Clearer, More Descriptive Data Representation\n",
        "\n",
        "  With dictionaries, data is self-descriptive via keys.\n",
        "\n",
        "  Lists rely on position, which can be error-prone and hard to read.\n",
        "\n",
        "  employee = {\"id\": 101, \"name\": \"Alice\", \"role\": \"Manager\"}  # Dictionary: clear structure\n",
        "\n",
        "  employee = [101, \"Alice\", \"Manager\"] # List: what do these numbers mean?\n",
        "\n"
      ],
      "metadata": {
        "id": "f3MO7Ho0gL9K"
      }
    },
    {
      "cell_type": "code",
      "source": [
        "#3.  Flexible, Dynamic Data Mapping: Dictionaries allow dynamic associations between data:\n",
        "scores = {\"Alice\": 90, \"Bob\": 85, \"Charlie\": 95}\n",
        "scores[\"Dave\"] = 88      # Add\n",
        "scores[\"Bob\"] = 87       # Update\n",
        "del scores[\"Charlie\"]    #delete\n",
        "scores"
      ],
      "metadata": {
        "colab": {
          "base_uri": "https://localhost:8080/"
        },
        "id": "l2tVnXIig7uF",
        "outputId": "e18ebe72-dc2e-4609-eb06-5671ded0ed3c"
      },
      "execution_count": null,
      "outputs": [
        {
          "output_type": "execute_result",
          "data": {
            "text/plain": [
              "{'Alice': 90, 'Bob': 87, 'Dave': 88}"
            ]
          },
          "metadata": {},
          "execution_count": 39
        }
      ]
    },
    {
      "cell_type": "code",
      "source": [],
      "metadata": {
        "id": "eF8N3n-3hU2q"
      },
      "execution_count": null,
      "outputs": []
    },
    {
      "cell_type": "markdown",
      "source": [
        "4. No Need to Track Indexes\n",
        "\n",
        "Dictionaries abstract away the need to remember positions. You access everything by key, so even if the internal order changes, your code still works.\n",
        "\n",
        "5. Keys Must Be Unique\n",
        "\n",
        "This forces you to structure your data around unique identifiers, which:\n",
        "\n",
        "Prevents duplication\n",
        "\n",
        "Encourages data normalization\n"
      ],
      "metadata": {
        "id": "6ejv5bMIhh2y"
      }
    },
    {
      "cell_type": "code",
      "source": [
        "#6. Ideal for Structured Data (e.g., JSON, APIs)\n",
        "# Most web APIs return data as JSON, which maps directly to Python dictionaries:\n",
        "user_data = {\"name\": \"Alice\", \"email\": \"alice@example.com\", \"is_active\": True}\n",
        "user_data"
      ],
      "metadata": {
        "colab": {
          "base_uri": "https://localhost:8080/"
        },
        "id": "x4qN5xZNhs3N",
        "outputId": "800ea62a-95de-498d-f04a-c198370acbcc"
      },
      "execution_count": null,
      "outputs": [
        {
          "output_type": "execute_result",
          "data": {
            "text/plain": [
              "{'name': 'Alice', 'email': 'alice@example.com', 'is_active': True}"
            ]
          },
          "metadata": {},
          "execution_count": 43
        }
      ]
    },
    {
      "cell_type": "markdown",
      "source": [
        "# When Not to Use a Dictionary:\n",
        "Use a list if:\n",
        "\n",
        "You need ordered sequences with repetition.\n",
        "\n",
        "You're doing numerical operations (then consider list, numpy, or pandas).\n",
        "\n",
        "You don't have meaningful keys."
      ],
      "metadata": {
        "id": "pcTz74tOiBvx"
      }
    },
    {
      "cell_type": "markdown",
      "source": [
        "## 12. Describe a scenario where using a tuple would be preferable over a list?\n",
        "->\n",
        "Scenario: Storing GPS Coordinates\n"
      ],
      "metadata": {
        "id": "1T4xA8ZciHUg"
      }
    },
    {
      "cell_type": "code",
      "source": [
        "location = (40.7128, -74.0060)\n",
        "location"
      ],
      "metadata": {
        "colab": {
          "base_uri": "https://localhost:8080/"
        },
        "id": "1XjzWsB0infP",
        "outputId": "06bd392d-6ddb-4a60-b828-759ae04d7e61"
      },
      "execution_count": null,
      "outputs": [
        {
          "output_type": "execute_result",
          "data": {
            "text/plain": [
              "(40.7128, -74.006)"
            ]
          },
          "metadata": {},
          "execution_count": 45
        }
      ]
    },
    {
      "cell_type": "markdown",
      "source": [
        "Why a Tuple is Better Here:\n",
        "\n",
        "Reason\t     ->       Why It Matters\n",
        "\n",
        "Immutability  -> \tOnce a location is recorded, it shouldn’t change\n",
        "\n",
        "Fixed size and structure -> \tAlways two values: (latitude, longitude)\n",
        "\n",
        "Semantically meaningful\t-> Signals \"this is a record\" not a collection\n",
        "\n",
        "Hashable\t-> Can be used as a dictionary key\n",
        "\n",
        "\n",
        "\n"
      ],
      "metadata": {
        "id": "h8kkwdYZiusK"
      }
    },
    {
      "cell_type": "code",
      "source": [
        "# Contrast with a List:\n",
        "location = [40.7128, -74.0060]\n",
        "location[0]\n"
      ],
      "metadata": {
        "colab": {
          "base_uri": "https://localhost:8080/"
        },
        "id": "YXrP1l--jPSJ",
        "outputId": "139385cf-bb1b-402e-bbbb-558fd26577c5"
      },
      "execution_count": null,
      "outputs": [
        {
          "output_type": "execute_result",
          "data": {
            "text/plain": [
              "40.7128"
            ]
          },
          "metadata": {},
          "execution_count": 46
        }
      ]
    },
    {
      "cell_type": "code",
      "source": [
        "# Returning multiple values from a function:\n",
        "def get_user():\n",
        " return (101, \"Alice\", \"admin\")"
      ],
      "metadata": {
        "id": "ub3F-raMjYrS"
      },
      "execution_count": null,
      "outputs": []
    },
    {
      "cell_type": "code",
      "source": [
        "# Using tuples as keys in dictionaries:\n",
        "access_log = {(\"Alice\", \"2025-04-24 10:00\"): \"LOGIN\", (\"Bob\", \"2025-04-24 10:05\"): \"LOGOUT\"}\n",
        "\n"
      ],
      "metadata": {
        "id": "rvgbzRQIjjG5"
      },
      "execution_count": null,
      "outputs": []
    },
    {
      "cell_type": "code",
      "source": [
        "# Representing records like RGB colors, 2D points, etc.:\n",
        "rgb_color = (255, 255, 0)\n",
        "\n"
      ],
      "metadata": {
        "id": "Glzl2nlSkFyt"
      },
      "execution_count": null,
      "outputs": []
    },
    {
      "cell_type": "markdown",
      "source": [
        "Use a tuple when the data is fixed, structured, and shouldn’t change.\n",
        "\n",
        "Use a list when the data is dynamic, order-sensitive, or needs modification."
      ],
      "metadata": {
        "id": "Y7niyg4zkQHv"
      }
    },
    {
      "cell_type": "markdown",
      "source": [
        "## 13. How do sets handle duplicate values in Python?\n",
        "-> Sets in Python automatically eliminate duplicate values.\n",
        "\n",
        "When you add items to a set, any repeated items are ignored — only unique values are kept.\n",
        "\n",
        "Sets don’t maintain order,\n",
        "\n",
        "Any repeated element will be removed silently,\n",
        "\n",
        " You can’t add mutable items like lists or dictionaries to a set."
      ],
      "metadata": {
        "id": "W3oWg8-pkYmp"
      }
    },
    {
      "cell_type": "code",
      "source": [
        "my_set = {1, 2, 2, 3, 4, 4, 4, 5}\n",
        "print(my_set)"
      ],
      "metadata": {
        "colab": {
          "base_uri": "https://localhost:8080/"
        },
        "id": "x24N0MwwkM-V",
        "outputId": "dd7b8e4f-d879-4795-8296-7b4cb9202081"
      },
      "execution_count": null,
      "outputs": [
        {
          "output_type": "stream",
          "name": "stdout",
          "text": [
            "{1, 2, 3, 4, 5}\n"
          ]
        }
      ]
    },
    {
      "cell_type": "markdown",
      "source": [
        " Why This Happens: Hashing\n",
        "\n",
        "Sets are implemented using hash tables (just like dictionaries).\n",
        "\n",
        "When a value is added, Python checks its hash value.\n",
        "\n",
        "If that value already exists in the set (i.e., same hash + equal), it’s not added again.\n",
        "\n",
        "#Features"
      ],
      "metadata": {
        "id": "IrqR4hiZlkYj"
      }
    },
    {
      "cell_type": "code",
      "source": [
        "# 1. Removing Duplicates from a List\n",
        "names = [\"Alice\", \"Bob\", \"Alice\", \"Eve\"]\n",
        "unique_names = list(set(names))\n",
        "print(unique_names)"
      ],
      "metadata": {
        "colab": {
          "base_uri": "https://localhost:8080/"
        },
        "id": "oljcr1YAlj_T",
        "outputId": "7ce839f9-a32e-417b-81ed-00ee09688ac6"
      },
      "execution_count": null,
      "outputs": [
        {
          "output_type": "stream",
          "name": "stdout",
          "text": [
            "['Alice', 'Bob', 'Eve']\n"
          ]
        }
      ]
    },
    {
      "cell_type": "code",
      "source": [
        "# 2. Checking for Membership\n",
        "emails = {\"a@example.com\", \"b@example.com\"}\n",
        "print(\"a@example.com\" in emails)"
      ],
      "metadata": {
        "colab": {
          "base_uri": "https://localhost:8080/"
        },
        "id": "5K1nVnQBl2JD",
        "outputId": "abc74cce-2467-44c8-e376-263a7202d468"
      },
      "execution_count": null,
      "outputs": [
        {
          "output_type": "stream",
          "name": "stdout",
          "text": [
            "True\n"
          ]
        }
      ]
    },
    {
      "cell_type": "code",
      "source": [
        "# 3. Filtering Sensor Readings\n",
        "readings = [1.2, 1.3, 1.2, 1.4, 1.3]\n",
        "unique_readings = set(readings)\n",
        "readings"
      ],
      "metadata": {
        "colab": {
          "base_uri": "https://localhost:8080/"
        },
        "id": "8vFLTkDpl7qw",
        "outputId": "d18485eb-5895-4949-b850-2b9d652d37a8"
      },
      "execution_count": null,
      "outputs": [
        {
          "output_type": "execute_result",
          "data": {
            "text/plain": [
              "[1.2, 1.3, 1.2, 1.4, 1.3]"
            ]
          },
          "metadata": {},
          "execution_count": 61
        }
      ]
    },
    {
      "cell_type": "markdown",
      "source": [
        "## 14. How does the “in” keyword work differently for lists and dictionaries?\n",
        "->\n",
        " The in keyword is used to check for membership — i.e., whether a value exists in a container (like a list, set, or dictionary).\n",
        "\n",
        "\n"
      ],
      "metadata": {
        "id": "7a8_XDNQmg3Z"
      }
    },
    {
      "cell_type": "code",
      "source": [
        "# For Lists: The in keyword checks if the element (value) is present in the list.\n",
        "my_list = [1, 2, 3, 4]\n",
        "3 in my_list"
      ],
      "metadata": {
        "id": "9mE6wQFuisQi",
        "colab": {
          "base_uri": "https://localhost:8080/"
        },
        "outputId": "71f7e0aa-cd93-4434-d0eb-0d7c35349e50"
      },
      "execution_count": 60,
      "outputs": [
        {
          "output_type": "execute_result",
          "data": {
            "text/plain": [
              "True"
            ]
          },
          "metadata": {},
          "execution_count": 60
        }
      ]
    },
    {
      "cell_type": "code",
      "source": [
        "# For Dictionaries: The in keyword checks if the key is present in the dictionary, not the value.\n",
        "my_dict = {'a': 1, 'b': 2}\n",
        "'a' in my_dict    # Returns True because 'a' is a key in the dictionary\n"
      ],
      "metadata": {
        "id": "f-8q6RgviscZ",
        "colab": {
          "base_uri": "https://localhost:8080/"
        },
        "outputId": "17094312-24e1-41d4-c977-ef60adaecfce"
      },
      "execution_count": 62,
      "outputs": [
        {
          "output_type": "execute_result",
          "data": {
            "text/plain": [
              "True"
            ]
          },
          "metadata": {},
          "execution_count": 62
        }
      ]
    },
    {
      "cell_type": "code",
      "source": [
        "my_dict = {'a': 1, 'b': 2}\n",
        "1 in my_dict    # Returns False because 1 is a value, not a key"
      ],
      "metadata": {
        "id": "YXjq-5J_isiy",
        "colab": {
          "base_uri": "https://localhost:8080/"
        },
        "outputId": "a1538f4a-0c07-4a12-cf68-dc5e7b91df6a"
      },
      "execution_count": 63,
      "outputs": [
        {
          "output_type": "execute_result",
          "data": {
            "text/plain": [
              "False"
            ]
          },
          "metadata": {},
          "execution_count": 63
        }
      ]
    },
    {
      "cell_type": "markdown",
      "source": [
        "## 15. Can you modify the elements of a tuple? Explain why or why not.\n",
        "->\n",
        "No, you cannot modify the elements of a tuple because tuples are immutable in Python. This means that once a tuple is created, its contents cannot be changed, added, or removed.\n",
        "\n",
        "\n",
        "When you create a tuple, its data is fixed. You can't change an element, append new elements, or remove elements after the tuple is created."
      ],
      "metadata": {
        "id": "3Bjja2ZDQugM"
      }
    },
    {
      "cell_type": "code",
      "source": [
        "my_tuple = (1, 2, 3)\n",
        "my_tuple[0] = 10          # 'tuple' object does not support item assignment."
      ],
      "metadata": {
        "colab": {
          "base_uri": "https://localhost:8080/",
          "height": 158
        },
        "id": "iB_0gzHfRKMI",
        "outputId": "2e48aa09-405c-487e-f34f-7aefa8d24ed0"
      },
      "execution_count": 64,
      "outputs": [
        {
          "output_type": "error",
          "ename": "TypeError",
          "evalue": "'tuple' object does not support item assignment",
          "traceback": [
            "\u001b[0;31m---------------------------------------------------------------------------\u001b[0m",
            "\u001b[0;31mTypeError\u001b[0m                                 Traceback (most recent call last)",
            "\u001b[0;32m<ipython-input-64-8a9c87d93ff4>\u001b[0m in \u001b[0;36m<cell line: 0>\u001b[0;34m()\u001b[0m\n\u001b[1;32m      1\u001b[0m \u001b[0mmy_tuple\u001b[0m \u001b[0;34m=\u001b[0m \u001b[0;34m(\u001b[0m\u001b[0;36m1\u001b[0m\u001b[0;34m,\u001b[0m \u001b[0;36m2\u001b[0m\u001b[0;34m,\u001b[0m \u001b[0;36m3\u001b[0m\u001b[0;34m)\u001b[0m\u001b[0;34m\u001b[0m\u001b[0;34m\u001b[0m\u001b[0m\n\u001b[0;32m----> 2\u001b[0;31m \u001b[0mmy_tuple\u001b[0m\u001b[0;34m[\u001b[0m\u001b[0;36m0\u001b[0m\u001b[0;34m]\u001b[0m \u001b[0;34m=\u001b[0m \u001b[0;36m10\u001b[0m\u001b[0;34m\u001b[0m\u001b[0;34m\u001b[0m\u001b[0m\n\u001b[0m",
            "\u001b[0;31mTypeError\u001b[0m: 'tuple' object does not support item assignment"
          ]
        }
      ]
    },
    {
      "cell_type": "code",
      "source": [
        "# if the tuple contains mutable objects (like lists), the contents of those mutable objects can be changed, but the structure of the tuple itself cannot be modified.\n",
        "my_tuple = ([1, 2], 3)\n",
        "my_tuple[0][0] = 10\n",
        "print(my_tuple)"
      ],
      "metadata": {
        "colab": {
          "base_uri": "https://localhost:8080/"
        },
        "id": "Xhkfmj5xRK-Q",
        "outputId": "d8ee4bcf-39d3-4353-b374-131dba6eb279"
      },
      "execution_count": 65,
      "outputs": [
        {
          "output_type": "stream",
          "name": "stdout",
          "text": [
            "([10, 2], 3)\n"
          ]
        }
      ]
    },
    {
      "cell_type": "markdown",
      "source": [
        "## 16. What is a nested dictionary, and give an example of its use case?\n",
        "->\n",
        "A nested dictionary is a dictionary where the value associated with a key is another dictionary. This allows for more complex data structures, where each key in the outer dictionary can map to a dictionary containing additional keys and values.\n",
        "\n",
        "A nested dictionary can be useful in scenarios like managing student information, product catalogs, or even hierarchical data like organizational structures where each key points to another dictionary with more detailed attributes."
      ],
      "metadata": {
        "id": "6xs5GcYTRg8_"
      }
    },
    {
      "cell_type": "code",
      "source": [
        "students = {\"John\": {\"age\": 20, \"subjects\": [\"Math\", \"Science\"], \"marks\": {\"Math\": 85, \"Science\": 90}},\"Emma\": {\"age\": 22, \"subjects\": [\"English\", \"History\"], \"marks\": {\"English\": 88, \"History\": 92}},\n",
        "\"Sam\": {\"age\": 21, \"subjects\": [\"Math\", \"Physics\"], \"marks\": {\"Math\": 75, \"Physics\": 80}}}\n",
        "john_math_marks = students[\"John\"][\"marks\"][\"Math\"]\n",
        "print(john_math_marks)"
      ],
      "metadata": {
        "colab": {
          "base_uri": "https://localhost:8080/"
        },
        "id": "bqW62u77RLZm",
        "outputId": "a5ea9c37-181e-46ca-82da-e015744064b3"
      },
      "execution_count": 66,
      "outputs": [
        {
          "output_type": "stream",
          "name": "stdout",
          "text": [
            "85\n"
          ]
        }
      ]
    },
    {
      "cell_type": "markdown",
      "source": [
        "## 17. Describe the time complexity of accessing elements in a dictionary.\n",
        "->\n",
        "The time complexity of accessing elements in a dictionary in Python is O(1) on average. This means that, on average, you can access a value in a dictionary in constant time, regardless of the size of the dictionary.\n",
        "\n",
        "# Why is it O(1)?\n",
        "\n",
        "Dictionaries in Python are implemented using a hash table.\n",
        "\n",
        "When you access an element using a key, the key is hashed, and this hash value is used to quickly locate the position where the corresponding value is stored.\n",
        "\n",
        "This allows for direct access to the value associated with the key without having to search through all the elements.\n",
        "\n",
        "# Worst-case Time Complexity:\n",
        "\n",
        "O(n) in the worst case, where n is the number of elements in the dictionary. This can happen in rare situations, like when many keys hash to the same value (hash collision). In this case, Python needs to handle the collision, and accessing the value could take longer, especially if multiple keys are stored in the same bucket.\n",
        "\n",
        "However, Python dictionaries use techniques like open addressing or linked lists to handle collisions efficiently, so worst-case scenarios are quite rare."
      ],
      "metadata": {
        "id": "MKjYBrxcSItm"
      }
    },
    {
      "cell_type": "code",
      "source": [
        "my_dict = {\"apple\": 1, \"banana\": 2, \"cherry\": 3}\n",
        "print(my_dict[\"banana\"])"
      ],
      "metadata": {
        "colab": {
          "base_uri": "https://localhost:8080/"
        },
        "id": "poSvnrnBSLGC",
        "outputId": "53fffec4-c73d-4831-dd54-79019ed63dea"
      },
      "execution_count": 67,
      "outputs": [
        {
          "output_type": "stream",
          "name": "stdout",
          "text": [
            "2\n"
          ]
        }
      ]
    },
    {
      "cell_type": "markdown",
      "source": [
        "## 18. In what situations are lists preferred over dictionaries?\n",
        "-> 1. When order matters:\n",
        "\n",
        "Lists maintain the order of elements, meaning you can access elements based on their position (index) in the sequence.\n",
        "\n",
        "If you need to preserve the order of items or iterate over them in a specific sequence, a list is the better choice."
      ],
      "metadata": {
        "id": "4JoP_tYJSKqq"
      }
    },
    {
      "cell_type": "code",
      "source": [
        "list20 = [10, 20, 30, 40]\n",
        "print(list20[1])"
      ],
      "metadata": {
        "colab": {
          "base_uri": "https://localhost:8080/"
        },
        "id": "SCZtLPFDSKPc",
        "outputId": "d1b2c7b3-908d-4ced-e32b-f220f25b95b9"
      },
      "execution_count": 68,
      "outputs": [
        {
          "output_type": "stream",
          "name": "stdout",
          "text": [
            "20\n"
          ]
        }
      ]
    },
    {
      "cell_type": "markdown",
      "source": [
        "2. When you need to store a simple collection of items:\n",
        "\n",
        "Lists are ideal for storing an ordered collection of elements that do not require any key-value mapping. For example, a list of numbers or strings.\n",
        "\n",
        "my_list = [1, 2, 3, 4, 5]"
      ],
      "metadata": {
        "id": "uDbFahG8TQct"
      }
    },
    {
      "cell_type": "markdown",
      "source": [
        "3. When you need to perform operations like slicing, sorting, or iterating:\n",
        "\n",
        "Lists offer built-in methods to perform common operations like sorting, slicing, or iterating over elements. These are straightforward for situations where you need to manipulate ordered data."
      ],
      "metadata": {
        "id": "4i13MtEsTZgM"
      }
    },
    {
      "cell_type": "code",
      "source": [
        "list21 = [3, 1, 2]\n",
        "list21.sort()  # Sorting the list\n",
        "print(list21)"
      ],
      "metadata": {
        "colab": {
          "base_uri": "https://localhost:8080/"
        },
        "id": "qxi_OjG0TQB1",
        "outputId": "aebda435-816a-47b4-bfc9-2992389ba7fc"
      },
      "execution_count": 69,
      "outputs": [
        {
          "output_type": "stream",
          "name": "stdout",
          "text": [
            "[1, 2, 3]\n"
          ]
        }
      ]
    },
    {
      "cell_type": "markdown",
      "source": [
        "4. When you don’t need key-value pairs:\n",
        "\n",
        "If your data doesn’t need to be associated with keys, using a dictionary would be unnecessary and inefficient. Lists are more efficient when you're only dealing with values and don’t need keys to identify them.\n",
        "\n",
        "5. When you need to store homogeneous data:\n",
        "\n",
        "Lists are great when the data is homogeneous, meaning all the items are of the same type and represent a simple collection of values. Dictionaries are better suited for heterogeneous data where items need to be represented by key-value pairs.\n",
        "\n",
        "my_list = [\"apple\", \"banana\", \"cherry\"]\n",
        "\n",
        "6. When performance matters for simple operations:\n",
        "\n",
        "For basic operations like appending elements or accessing elements by index, lists can be more efficient than dictionaries. Lists use contiguous memory, which can make operations faster when you're dealing with simple, sequential data."
      ],
      "metadata": {
        "id": "L_gWZj6bTZH0"
      }
    },
    {
      "cell_type": "markdown",
      "source": [
        "## 19. Why are dictionaries considered unordered, and how does that affect data retrieval?\n",
        "->\n",
        "Dictionaries in Python are considered unordered because, in earlier versions of Python (before Python 3.7), the elements in a dictionary did not maintain any specific order. However, starting from Python 3.7, dictionaries preserve the insertion order, meaning that they maintain the order in which key-value pairs were added. Despite this, dictionaries are still conceptually unordered because the primary focus of dictionaries is on key-based lookup rather than the order of the elements.\n",
        "\n",
        "#Why Are Dictionaries Considered Unordered?\n",
        "1. Implementation via Hash Tables:\n",
        "\n",
        "Dictionaries are implemented using hash tables. A hash table stores the keys in a way that allows fast lookups, insertions, and deletions. The hash value of the key determines where the corresponding value is stored in memory, which does not depend on the order in which elements are inserted. This is why, in general, dictionaries don't guarantee an order in how items are stored or iterated over.\n",
        "\n",
        "2. Focus on Key-Value Mapping:\n",
        "\n",
        "The main purpose of a dictionary is to provide an efficient key-value mapping. When you retrieve a value from a dictionary using a key, Python computes the hash of the key and directly accesses the corresponding value. This hashing process is independent of the insertion order, making it an \"unordered\" collection conceptually.\n",
        "\n",
        "# How Does It Affect Data Retrieval?\n",
        "1. Efficiency of Lookup:\n",
        "\n",
        "The primary impact of the unordered nature of dictionaries is on data retrieval. When you access an element in a dictionary using a key, Python uses the hash function to quickly find the value associated with that key, typically in O(1) time on average.\n",
        "\n",
        "This hash-based retrieval makes the dictionary highly efficient, regardless of the insertion order of the elements. However, because the dictionary is unordered, the order of iteration over keys or values is not guaranteed unless you're using Python 3.7 or later.\n",
        "\n",
        "2. No Indexing or Slicing:\n",
        "\n",
        "Unlike lists, you cannot access dictionary elements by index (e.g., dict[0]) because dictionaries don't have an inherent order. This means you can only retrieve data using the keys, not by their position in the dictionary."
      ],
      "metadata": {
        "id": "104tIy35T8CX"
      }
    },
    {
      "cell_type": "code",
      "source": [
        "dict8 = {\"a\": 1, \"b\": 2, \"c\": 3}\n",
        "print(dict8[\"a\"])"
      ],
      "metadata": {
        "colab": {
          "base_uri": "https://localhost:8080/"
        },
        "id": "dU00dfIxTvg6",
        "outputId": "d784431f-072e-4ed9-83da-68011508d9bd"
      },
      "execution_count": 70,
      "outputs": [
        {
          "output_type": "stream",
          "name": "stdout",
          "text": [
            "1\n"
          ]
        }
      ]
    },
    {
      "cell_type": "markdown",
      "source": [
        "3. Iteration and Order:\n",
        "\n",
        "In Python 3.7 and later, dictionaries preserve insertion order, so when you iterate over a dictionary (e.g., using for key in dict:), it will return the items in the order they were added.\n",
        "\n",
        "However, this ordered behavior is not the same as in a list, where the index positions inherently define the order.\n",
        "\n",
        "4. Unreliable Order Before Python 3.7:\n",
        "\n",
        "Before Python 3.7, dictionaries did not guarantee any order when iterating, so relying on the order of items could lead to unpredictable behavior."
      ],
      "metadata": {
        "id": "CddBz4qZTPPP"
      }
    },
    {
      "cell_type": "markdown",
      "source": [
        "## 20.  Explain the difference between a list and a dictionary in terms of data retrieval.\n",
        "->\n",
        "The key difference between a list and a dictionary in terms of data retrieval lies in how the data is stored and accessed:\n",
        "\n",
        "1. List:\n",
        "\n",
        "- Data Retrieval Method:\n",
        "\n",
        " Lists are ordered collections that use indexing to access elements. The elements are accessed by their position (index) in the list.\n",
        "\n",
        "- Index-based Access:\n",
        "\n",
        " Each element in a list has a specific index, starting from 0, and you retrieve data by providing this index.\n",
        "\n",
        "- Time Complexity:\n",
        "\n",
        " Retrieving an element by index in a list is O(1), i.e., constant time, because the elements are stored in a contiguous memory block.\n",
        "\n",
        "\n"
      ],
      "metadata": {
        "id": "V-MiXeaiTOwf"
      }
    },
    {
      "cell_type": "code",
      "source": [
        "# Example\n",
        "list25 = [10, 20, 30, 40]\n",
        "list25[1]     # You can only retrieve elements by their index and can't access them by any other means"
      ],
      "metadata": {
        "colab": {
          "base_uri": "https://localhost:8080/"
        },
        "id": "fsRCMzyqVgqt",
        "outputId": "9ff765ae-5abb-41c0-a61b-e4c5a7d58087"
      },
      "execution_count": 76,
      "outputs": [
        {
          "output_type": "execute_result",
          "data": {
            "text/plain": [
              "20"
            ]
          },
          "metadata": {},
          "execution_count": 76
        }
      ]
    },
    {
      "cell_type": "markdown",
      "source": [
        "2. Dictionary:\n",
        "\n",
        "- Data Retrieval Method:\n",
        "\n",
        "Dictionaries are unordered collections that store data as key-value pairs. The value associated with a key is accessed by specifying the key (not an index).\n",
        "\n",
        "- Key-based Access:\n",
        "\n",
        " To retrieve a value from a dictionary, you must provide the key that corresponds to the value.\n",
        "\n",
        "- Time Complexity:\n",
        "\n",
        "Retrieval by key in a dictionary is typically O(1) on average, due to the underlying hash table implementation. This allows for very efficient lookups based on the key.\n",
        "\n"
      ],
      "metadata": {
        "id": "fObIagr2VhPj"
      }
    },
    {
      "cell_type": "code",
      "source": [
        "# Example\n",
        "dict26 = {\"apple\": 1, \"banana\": 2, \"cherry\": 3}\n",
        "print(dict26[\"banana\"])   #You access the values by specifying their keys, not indices. Keys can be any immutable type (like strings, numbers, tuples)."
      ],
      "metadata": {
        "colab": {
          "base_uri": "https://localhost:8080/"
        },
        "id": "amd2gEHQV39r",
        "outputId": "3f74de7e-60b2-44e7-b2d7-a7a70110694a"
      },
      "execution_count": 77,
      "outputs": [
        {
          "output_type": "stream",
          "name": "stdout",
          "text": [
            "2\n"
          ]
        }
      ]
    },
    {
      "cell_type": "markdown",
      "source": [
        "Key Differences in Data Retrieval:\n",
        "\n",
        "Data Type:\n",
        "\n",
        "List:\n",
        " Stores a sequence of values, accessed by index.\n",
        "\n",
        "Dictionary:\n",
        " Stores a set of key-value pairs, accessed by key.\n",
        "\n",
        "Accessing Elements:\n",
        "\n",
        "List: Data is retrieved by index (e.g., my_list[0]).\n",
        "\n",
        "Dictionary: Data is retrieved by key (e.g., my_dict[\"apple\"]).\n",
        "\n",
        "Ordering:\n",
        "\n",
        "List: Lists maintain the order of elements, so you can retrieve elements based on their position.\n",
        "\n",
        "Dictionary: In Python 3.7 and later, dictionaries preserve insertion order, but they are primarily accessed by keys, not by order of insertion.\n",
        "\n",
        "Efficiency:\n",
        "\n",
        "List: Accessing elements by index is efficient (O(1)), but searching for an element by value can take O(n) time (linear time) if you don't know the index.\n",
        "\n",
        "Dictionary: Accessing elements by key is efficient (O(1) on average), and searching is generally faster than lists when using keys for lookups."
      ],
      "metadata": {
        "id": "0-TG6BHtWHMW"
      }
    },
    {
      "cell_type": "code",
      "source": [],
      "metadata": {
        "id": "ye9tJVljWGp9"
      },
      "execution_count": null,
      "outputs": []
    },
    {
      "cell_type": "code",
      "source": [],
      "metadata": {
        "id": "sBNF2BZBWYrQ"
      },
      "execution_count": null,
      "outputs": []
    },
    {
      "cell_type": "markdown",
      "source": [
        "## Practical Questions"
      ],
      "metadata": {
        "id": "1sAVGI9zjAoJ"
      }
    },
    {
      "cell_type": "code",
      "source": [
        "# 1. Write a code to create a string with your name and print it.\n",
        "name=\"Aadarsh Rakesh Gupta\"\n",
        "print(name)"
      ],
      "metadata": {
        "colab": {
          "base_uri": "https://localhost:8080/"
        },
        "id": "Oue-Khg4jHAF",
        "outputId": "e3c4d5b9-52e2-449f-c6ac-bbd5bb65a11e"
      },
      "execution_count": null,
      "outputs": [
        {
          "output_type": "stream",
          "name": "stdout",
          "text": [
            "Aadarsh Rakesh Gupta\n"
          ]
        }
      ]
    },
    {
      "cell_type": "code",
      "source": [
        "# 2. Write a code to find the length of the string \"Hello World\".\n",
        "text=\"Hello World\"\n",
        "len(text)"
      ],
      "metadata": {
        "colab": {
          "base_uri": "https://localhost:8080/"
        },
        "id": "X8lziqtJjfNF",
        "outputId": "30bcfe9d-4173-4e9d-8be0-b16c3c0afb36"
      },
      "execution_count": null,
      "outputs": [
        {
          "output_type": "execute_result",
          "data": {
            "text/plain": [
              "11"
            ]
          },
          "metadata": {},
          "execution_count": 3
        }
      ]
    },
    {
      "cell_type": "code",
      "source": [
        "# 3. Write a code to slice the first 3 characters from the string \"Python Programming\".\n",
        "text = \"Python Programming\"\n",
        "sliced_text = text[:3]\n",
        "print(sliced_text)"
      ],
      "metadata": {
        "colab": {
          "base_uri": "https://localhost:8080/"
        },
        "id": "nuWuMRy3j7nU",
        "outputId": "cbef872d-5da3-458f-f55d-049913cf79cb"
      },
      "execution_count": null,
      "outputs": [
        {
          "output_type": "stream",
          "name": "stdout",
          "text": [
            "Pyt\n"
          ]
        }
      ]
    },
    {
      "cell_type": "code",
      "source": [
        "# 4. Write a code to convert the string \"hello\" to uppercase.\n",
        "text=\"hello\"\n",
        "upper_text=text.upper()\n",
        "print(upper_text)"
      ],
      "metadata": {
        "colab": {
          "base_uri": "https://localhost:8080/"
        },
        "id": "AB_WW3JhkZLX",
        "outputId": "aecbb456-edaa-4298-cb24-3ffe417130c2"
      },
      "execution_count": null,
      "outputs": [
        {
          "output_type": "stream",
          "name": "stdout",
          "text": [
            "HELLO\n"
          ]
        }
      ]
    },
    {
      "cell_type": "code",
      "source": [
        "# 5. Write a code to replace the word \"apple\" with \"orange\" in the string \"I like apple\".\n",
        "str1=\"I like apple\"\n",
        "text= str1.replace(\"apple\", \"orange\")\n",
        "print(text)\n",
        "\n"
      ],
      "metadata": {
        "colab": {
          "base_uri": "https://localhost:8080/"
        },
        "id": "L_mZuw42mRMK",
        "outputId": "cd30c0e6-d147-45c6-c792-4834f7d84dc6"
      },
      "execution_count": 49,
      "outputs": [
        {
          "output_type": "stream",
          "name": "stdout",
          "text": [
            "I like orange\n"
          ]
        }
      ]
    },
    {
      "cell_type": "code",
      "source": [
        "# 6. Write a code to create a list with numbers 1 to 5 and print it.\n",
        "list1=[1,2,3,4,5]\n",
        "list1"
      ],
      "metadata": {
        "colab": {
          "base_uri": "https://localhost:8080/"
        },
        "id": "BtjV0H6WnLJW",
        "outputId": "fd73f926-8632-45d7-925e-93625f13e7bc"
      },
      "execution_count": 50,
      "outputs": [
        {
          "output_type": "execute_result",
          "data": {
            "text/plain": [
              "[1, 2, 3, 4, 5]"
            ]
          },
          "metadata": {},
          "execution_count": 50
        }
      ]
    },
    {
      "cell_type": "code",
      "source": [
        "# 7. Write a code to append the number 10 to the list [1, 2, 3, 4].\n",
        "list2=[1, 2, 3, 4]\n",
        "list2.append(10)\n",
        "print(list)"
      ],
      "metadata": {
        "colab": {
          "base_uri": "https://localhost:8080/"
        },
        "id": "RCghb8itn0jt",
        "outputId": "d231e025-c4f2-400b-8a83-8cb063e23321"
      },
      "execution_count": 51,
      "outputs": [
        {
          "output_type": "stream",
          "name": "stdout",
          "text": [
            "<class 'list'>\n"
          ]
        }
      ]
    },
    {
      "cell_type": "code",
      "source": [
        "# 8. Write a code to remove the number 3 from the list [1, 2, 3, 4, 5].\n",
        "my_list=[1, 2, 3, 4, 5]\n",
        "my_list.remove(3)\n",
        "my_list"
      ],
      "metadata": {
        "colab": {
          "base_uri": "https://localhost:8080/"
        },
        "id": "opKAwLStoiRm",
        "outputId": "9d261be7-53b6-45a9-b3c9-d13394b972ea"
      },
      "execution_count": 52,
      "outputs": [
        {
          "output_type": "execute_result",
          "data": {
            "text/plain": [
              "[1, 2, 4, 5]"
            ]
          },
          "metadata": {},
          "execution_count": 52
        }
      ]
    },
    {
      "cell_type": "code",
      "source": [
        "# 9. Write a code to access the second element in the list ['a', 'b', 'c', 'd'].\n",
        "my_list1=['a', 'b', 'c', 'd']\n",
        "print(my_list1[1])"
      ],
      "metadata": {
        "colab": {
          "base_uri": "https://localhost:8080/"
        },
        "id": "vjfeeGMQpLX6",
        "outputId": "36748dd2-a264-4283-b582-32fe7a12504e"
      },
      "execution_count": 54,
      "outputs": [
        {
          "output_type": "stream",
          "name": "stdout",
          "text": [
            "b\n"
          ]
        }
      ]
    },
    {
      "cell_type": "code",
      "source": [
        "# 10. Write a code to reverse the list [10, 20, 30, 40, 50].\n",
        "list4=[10, 20, 30, 40, 50]\n",
        "list4.reverse()\n",
        "list4"
      ],
      "metadata": {
        "colab": {
          "base_uri": "https://localhost:8080/"
        },
        "id": "ENBxd04EpoAz",
        "outputId": "0eb7d981-c65c-4904-a395-4a0f7e23029d"
      },
      "execution_count": 55,
      "outputs": [
        {
          "output_type": "execute_result",
          "data": {
            "text/plain": [
              "[50, 40, 30, 20, 10]"
            ]
          },
          "metadata": {},
          "execution_count": 55
        }
      ]
    },
    {
      "cell_type": "code",
      "source": [
        "# 11. Write a code to create a tuple with the elements 100, 200, 300 and print it.\n",
        "my_tuple= (100, 200, 300)\n",
        "print(my_tuple)"
      ],
      "metadata": {
        "colab": {
          "base_uri": "https://localhost:8080/"
        },
        "id": "N5Ys3Dr0qD8r",
        "outputId": "4c7bc93f-8b22-4cfe-eda7-cd3f116bc189"
      },
      "execution_count": null,
      "outputs": [
        {
          "output_type": "stream",
          "name": "stdout",
          "text": [
            "(100, 200, 300)\n"
          ]
        }
      ]
    },
    {
      "cell_type": "code",
      "source": [
        "# 12. Write a code to access the second-to-last element of the tuple ('red', 'green', 'blue', 'yellow').\n",
        "colors = ('red', 'green', 'blue', 'yellow')\n",
        "colors[-2]"
      ],
      "metadata": {
        "colab": {
          "base_uri": "https://localhost:8080/",
          "height": 35
        },
        "id": "2Whv6g-G_esm",
        "outputId": "adfdcb3e-10a6-430d-cf26-662565b6cca1"
      },
      "execution_count": null,
      "outputs": [
        {
          "output_type": "execute_result",
          "data": {
            "text/plain": [
              "'blue'"
            ],
            "application/vnd.google.colaboratory.intrinsic+json": {
              "type": "string"
            }
          },
          "metadata": {},
          "execution_count": 35
        }
      ]
    },
    {
      "cell_type": "code",
      "source": [
        "# 13. Write a code to find the minimum number in the tuple (10, 20, 5, 15).\n",
        "my_tuple= (10, 20, 5, 15)\n",
        "min_number= min(my_tuple)\n",
        "print(min_number)"
      ],
      "metadata": {
        "colab": {
          "base_uri": "https://localhost:8080/"
        },
        "id": "2OTmNQvp_5_f",
        "outputId": "3fec2065-f4c8-4261-b9f9-fc8596ffcde0"
      },
      "execution_count": null,
      "outputs": [
        {
          "output_type": "stream",
          "name": "stdout",
          "text": [
            "5\n"
          ]
        }
      ]
    },
    {
      "cell_type": "code",
      "source": [
        "# 14. Write a code to find the index of the element \"cat\" in the tuple ('dog', 'cat', 'rabbit').\n",
        "animals = ('dog', 'cat', 'rabbit')\n",
        "index_of_cat = animals.index('cat')\n",
        "print(index_of_cat)"
      ],
      "metadata": {
        "id": "9PiVDIJSOA22",
        "colab": {
          "base_uri": "https://localhost:8080/"
        },
        "outputId": "a7ff158c-2936-4c03-eeee-b25805d06e13"
      },
      "execution_count": 1,
      "outputs": [
        {
          "output_type": "stream",
          "name": "stdout",
          "text": [
            "1\n"
          ]
        }
      ]
    },
    {
      "cell_type": "code",
      "source": [
        "# 15. Write a code to create a tuple containing three different fruits and check if \"kiwi\" is in it.\n",
        "fruits = ('apple', 'banana', 'orange')\n",
        "\"kiwi\" in fruits"
      ],
      "metadata": {
        "colab": {
          "base_uri": "https://localhost:8080/"
        },
        "id": "McZNmWWrCvd6",
        "outputId": "5c69fa0a-6799-44c4-a581-b71856ff8db8"
      },
      "execution_count": 2,
      "outputs": [
        {
          "output_type": "execute_result",
          "data": {
            "text/plain": [
              "False"
            ]
          },
          "metadata": {},
          "execution_count": 2
        }
      ]
    },
    {
      "cell_type": "code",
      "source": [
        "# 16. Write a code to create a set with the elements 'a', 'b', 'c' and print it.\n",
        "set1 = {'a', 'b', 'c'}\n",
        "print(set1)"
      ],
      "metadata": {
        "colab": {
          "base_uri": "https://localhost:8080/"
        },
        "id": "hFJaDPQdDFs3",
        "outputId": "ccd450a6-02cf-4edd-a6fd-a150c2a7287a"
      },
      "execution_count": 56,
      "outputs": [
        {
          "output_type": "stream",
          "name": "stdout",
          "text": [
            "{'a', 'c', 'b'}\n"
          ]
        }
      ]
    },
    {
      "cell_type": "code",
      "source": [
        "# 17. Write a code to clear all elements from the set {1, 2, 3, 4, 5}.\n",
        "set2 = {1, 2, 3, 4, 5}\n",
        "set2.clear()\n",
        "set2"
      ],
      "metadata": {
        "colab": {
          "base_uri": "https://localhost:8080/"
        },
        "id": "wQPnL1zFDScl",
        "outputId": "2f3d0e1e-bcbc-4fe9-8005-332dda582b32"
      },
      "execution_count": 57,
      "outputs": [
        {
          "output_type": "execute_result",
          "data": {
            "text/plain": [
              "set()"
            ]
          },
          "metadata": {},
          "execution_count": 57
        }
      ]
    },
    {
      "cell_type": "code",
      "source": [
        "# 18. Write a code to remove the element 4 from the set {1, 2, 3, 4}.\n",
        "set3 = {1, 2, 3, 4}\n",
        "set3.remove(4)\n",
        "set3\n"
      ],
      "metadata": {
        "colab": {
          "base_uri": "https://localhost:8080/"
        },
        "id": "XivDy68sDfbZ",
        "outputId": "9ecfd850-1437-45e6-811a-916c967568d1"
      },
      "execution_count": 58,
      "outputs": [
        {
          "output_type": "execute_result",
          "data": {
            "text/plain": [
              "{1, 2, 3}"
            ]
          },
          "metadata": {},
          "execution_count": 58
        }
      ]
    },
    {
      "cell_type": "code",
      "source": [
        "# 19. Write a code to find the union of two sets {1, 2, 3} and {3, 4, 5}.\n",
        "a= {1, 2, 3}\n",
        "b= {3, 4, 5}\n",
        "a.union(b)"
      ],
      "metadata": {
        "colab": {
          "base_uri": "https://localhost:8080/"
        },
        "id": "zFOIbfARDvkh",
        "outputId": "8500f071-11a5-4d25-a0bd-d3bcb37c4a92"
      },
      "execution_count": 8,
      "outputs": [
        {
          "output_type": "execute_result",
          "data": {
            "text/plain": [
              "{1, 2, 3, 4, 5}"
            ]
          },
          "metadata": {},
          "execution_count": 8
        }
      ]
    },
    {
      "cell_type": "code",
      "source": [
        "# 20. Write a code to find the intersection of two sets {1, 2, 3} and {2, 3, 4}.\n",
        "a= {1, 2, 3}\n",
        "b= {2, 3, 4}\n",
        "a.intersection(b)"
      ],
      "metadata": {
        "colab": {
          "base_uri": "https://localhost:8080/"
        },
        "id": "NX9sfAZwEqnu",
        "outputId": "8b37df37-7de9-4131-f5f0-5d47a47356ef"
      },
      "execution_count": 9,
      "outputs": [
        {
          "output_type": "execute_result",
          "data": {
            "text/plain": [
              "{2, 3}"
            ]
          },
          "metadata": {},
          "execution_count": 9
        }
      ]
    },
    {
      "cell_type": "code",
      "source": [
        "# 21. Write a code to create a dictionary with the keys \"name\", \"age\", and \"city\", and print it.\n",
        "person={\"name\": \"Aadarsh\", \"age\": 23, \"city\": \"Mumbai\"}\n",
        "print(person)"
      ],
      "metadata": {
        "colab": {
          "base_uri": "https://localhost:8080/"
        },
        "id": "ZZZR5NueFZBI",
        "outputId": "b23b8df1-0dd7-4377-c73f-2bc296ff4157"
      },
      "execution_count": 10,
      "outputs": [
        {
          "output_type": "stream",
          "name": "stdout",
          "text": [
            "{'name': 'Aadarsh', 'age': 23, 'city': 'Mumbai'}\n"
          ]
        }
      ]
    },
    {
      "cell_type": "code",
      "source": [
        "# 22. Write a code to add a new key-value pair \"country\": \"USA\" to the dictionary {'name': 'John', 'age': 25}.\n",
        "person = {'name': 'John', 'age': 25}\n",
        "person['country'] = 'USA'\n",
        "print(person)"
      ],
      "metadata": {
        "colab": {
          "base_uri": "https://localhost:8080/"
        },
        "id": "_ZCsddz4FxSY",
        "outputId": "5c7377e6-443f-4291-a22d-8619f3e7856d"
      },
      "execution_count": 11,
      "outputs": [
        {
          "output_type": "stream",
          "name": "stdout",
          "text": [
            "{'name': 'John', 'age': 25, 'country': 'USA'}\n"
          ]
        }
      ]
    },
    {
      "cell_type": "code",
      "source": [
        "# 23.  Write a code to access the value associated with the key \"name\" in the dictionary {'name': 'Alice', 'age': 30}.\n",
        "person = {'name': 'Alice', 'age': 30}\n",
        "name_value= person['name']\n",
        "print(name_value)"
      ],
      "metadata": {
        "colab": {
          "base_uri": "https://localhost:8080/"
        },
        "id": "VY4x9OymGBkg",
        "outputId": "b3ded00c-405e-49ca-e40b-f598411305fc"
      },
      "execution_count": 15,
      "outputs": [
        {
          "output_type": "stream",
          "name": "stdout",
          "text": [
            "Alice\n"
          ]
        }
      ]
    },
    {
      "cell_type": "code",
      "source": [
        "# 24.  Write a code to remove the key \"age\" from the dictionary {'name': 'Bob', 'age': 22, 'city': 'New York'}.\n",
        "person = {'name': 'Bob', 'age': 22, 'city': 'New York'}\n",
        "person.pop('age')\n",
        "print(person)"
      ],
      "metadata": {
        "colab": {
          "base_uri": "https://localhost:8080/"
        },
        "id": "FZaje7OsGaZ3",
        "outputId": "e0275d3e-dec1-4648-956d-3c1363798f82"
      },
      "execution_count": 16,
      "outputs": [
        {
          "output_type": "stream",
          "name": "stdout",
          "text": [
            "{'name': 'Bob', 'city': 'New York'}\n"
          ]
        }
      ]
    },
    {
      "cell_type": "code",
      "source": [
        "# 25. Write a code to check if the key \"city\" exists in the dictionary {'name': 'Alice', 'city': 'Paris'}.\n",
        "person = {'name': 'Alice', 'city': 'Paris'}\n",
        "if 'city' in person:\n",
        "    print(\"The key 'city' exists in the dictionary.\")\n",
        "else:\n",
        "    print(\"The key 'city' does not exist in the dictionary.\")"
      ],
      "metadata": {
        "colab": {
          "base_uri": "https://localhost:8080/"
        },
        "id": "44rlYHN5Gveo",
        "outputId": "f47d1fdc-3fc6-44e3-f7e6-4523906eadaf"
      },
      "execution_count": 17,
      "outputs": [
        {
          "output_type": "stream",
          "name": "stdout",
          "text": [
            "The key 'city' exists in the dictionary.\n"
          ]
        }
      ]
    },
    {
      "cell_type": "code",
      "source": [
        "# 26.  Write a code to create a list, a tuple, and a dictionary, and print them all.\n",
        "list9 = [1, 2, 3, 4, 5]\n",
        "tuple9 = ('apple', 'banana', 'cherry')\n",
        "dict9 = {'name': 'Shagun', 'age': 21, 'city': 'Mumbai'}\n",
        "print(list9)\n",
        "print(tuple9)\n",
        "print(dict9)"
      ],
      "metadata": {
        "colab": {
          "base_uri": "https://localhost:8080/"
        },
        "id": "nVFxEghyHJ5j",
        "outputId": "dce428a3-b951-4a17-b67b-577004b48d65"
      },
      "execution_count": 59,
      "outputs": [
        {
          "output_type": "stream",
          "name": "stdout",
          "text": [
            "[1, 2, 3, 4, 5]\n",
            "('apple', 'banana', 'cherry')\n",
            "{'name': 'Shagun', 'age': 21, 'city': 'Mumbai'}\n"
          ]
        }
      ]
    },
    {
      "cell_type": "code",
      "source": [
        "# 27. Write a code to create a list of 5 random numbers between 1 and 100, sort it in ascending order, and print the result.(replaced)\n",
        "numbers=[23, 15, 89, 45, 12]\n",
        "numbers.sort()\n",
        "numbers"
      ],
      "metadata": {
        "colab": {
          "base_uri": "https://localhost:8080/"
        },
        "id": "51jBOXlWHeWH",
        "outputId": "dfd671d2-0f20-4bc2-9e82-d83661cafe7c"
      },
      "execution_count": 28,
      "outputs": [
        {
          "output_type": "execute_result",
          "data": {
            "text/plain": [
              "[12, 15, 23, 45, 89]"
            ]
          },
          "metadata": {},
          "execution_count": 28
        }
      ]
    },
    {
      "cell_type": "code",
      "source": [
        "# 28. Write a code to create a list with strings and print the element at the third index.\n",
        "fruits = [\"apple\", \"banana\", \"cherry\", \"mango\", \"orange\"]\n",
        "fruits[3]"
      ],
      "metadata": {
        "colab": {
          "base_uri": "https://localhost:8080/",
          "height": 36
        },
        "id": "0bQfmehSH1CR",
        "outputId": "f3b87609-cbe4-4b4c-f1c4-41958134b1ae"
      },
      "execution_count": 30,
      "outputs": [
        {
          "output_type": "execute_result",
          "data": {
            "text/plain": [
              "'mango'"
            ],
            "application/vnd.google.colaboratory.intrinsic+json": {
              "type": "string"
            }
          },
          "metadata": {},
          "execution_count": 30
        }
      ]
    },
    {
      "cell_type": "code",
      "source": [
        "# 29. Write a code to combine two dictionaries into one and print the result.\n",
        "dict1 = {'name': 'Alice', 'age': 30}\n",
        "dict2 = {'city': 'Paris', 'country': 'France'}\n",
        "dict1.update(dict2)\n",
        "print(dict1)"
      ],
      "metadata": {
        "colab": {
          "base_uri": "https://localhost:8080/"
        },
        "id": "UtiRLqgNJ2ot",
        "outputId": "361c66c8-1a0f-486d-8999-717edab51c03"
      },
      "execution_count": 31,
      "outputs": [
        {
          "output_type": "stream",
          "name": "stdout",
          "text": [
            "{'name': 'Alice', 'age': 30, 'city': 'Paris', 'country': 'France'}\n"
          ]
        }
      ]
    },
    {
      "cell_type": "code",
      "source": [
        "# 30. Write a code to convert a list of strings into a set.\n",
        "list1 = [\"apple\", \"banana\", \"cherry\", \"apple\", \"banana\"]\n",
        "set_of_strings = set(list1)\n",
        "print(set_of_strings)"
      ],
      "metadata": {
        "colab": {
          "base_uri": "https://localhost:8080/"
        },
        "id": "3QwPI5cuKGpe",
        "outputId": "8da2cc1e-bc39-43f1-cb2b-9ef6ecb4291d"
      },
      "execution_count": 46,
      "outputs": [
        {
          "output_type": "stream",
          "name": "stdout",
          "text": [
            "{'banana', 'apple', 'cherry'}\n"
          ]
        }
      ]
    }
  ]
}