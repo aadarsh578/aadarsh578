{
  "nbformat": 4,
  "nbformat_minor": 0,
  "metadata": {
    "colab": {
      "provenance": []
    },
    "kernelspec": {
      "name": "python3",
      "display_name": "Python 3"
    },
    "language_info": {
      "name": "python"
    }
  },
  "cells": [
    {
      "cell_type": "markdown",
      "source": [
        "## 1. Explain the key features of Python that make it a popular choice for programming ?   \n",
        "   -> Python is a programming language that is easy to understand and write, making it a popular choice among developers and programmers.\n",
        "\n",
        "   #key features\n",
        " 1. Simple and Readable Syntax\n",
        "\n",
        "    Python's syntax is clean and resembles plain English, which makes it easy to write and understand code. This readability reduces the cost of program maintenance and development time.\n",
        " 2. Interpreted Language\n",
        "    \n",
        "     Python is an interpreted language, meaning code is executed line by line. This helps in debugging and testing programs quickly without the need for compiling.\n",
        " 3. Large Standard Library\n",
        "    \n",
        "    Python has powerful libraries for different domains:  \n",
        "\n",
        "    Data Science & AI: NumPy, pandas, TensorFlow, scikit-learn\n",
        "\n",
        "    Web Development: Django, Flask, FastAPI\n",
        "\n",
        "    Automation: Selenium, PyAutoGUI\n",
        "\n",
        "    Game Development: Pygame\n",
        " 4. High-Level Language\n",
        "\n",
        "    Python abstracts away most of the complex details of the computer like memory management, so developers can focus more on solving problems.\n",
        "\n"
      ],
      "metadata": {
        "id": "M_NrJq_8UVH6"
      }
    },
    {
      "cell_type": "markdown",
      "source": [
        "## 2. Describe the role of predefined keywords in Python and provide examples of how they are used in a program.\n",
        "\n",
        "  -> Predefined keywords  are reserved words in Python that have special meanings and cannot be used as identifiers such as variable names, function names, etc.These keywords define the syntax and structure of Python programs.\n",
        "\n"
      ],
      "metadata": {
        "id": "vk0gG9SLWz3j"
      }
    },
    {
      "cell_type": "code",
      "source": [
        "#List of some keywords\n",
        "help(\"keywords\")"
      ],
      "metadata": {
        "colab": {
          "base_uri": "https://localhost:8080/"
        },
        "id": "VYCOSkBPYEYx",
        "outputId": "49bec035-6aea-41f9-d65b-d8047dd1e155"
      },
      "execution_count": 3,
      "outputs": [
        {
          "output_type": "stream",
          "name": "stdout",
          "text": [
            "\n",
            "Here is a list of the Python keywords.  Enter any keyword to get more help.\n",
            "\n",
            "False               class               from                or\n",
            "None                continue            global              pass\n",
            "True                def                 if                  raise\n",
            "and                 del                 import              return\n",
            "as                  elif                in                  try\n",
            "assert              else                is                  while\n",
            "async               except              lambda              with\n",
            "await               finally             nonlocal            yield\n",
            "break               for                 not                 \n",
            "\n"
          ]
        }
      ]
    },
    {
      "cell_type": "code",
      "source": [
        "# exmaples\n",
        "a=3"
      ],
      "metadata": {
        "id": "eYJwaa3tYOss"
      },
      "execution_count": 5,
      "outputs": []
    },
    {
      "cell_type": "code",
      "source": [
        "type(a)"
      ],
      "metadata": {
        "colab": {
          "base_uri": "https://localhost:8080/"
        },
        "id": "5CqqaEH4Y44V",
        "outputId": "d1d387d7-7755-4eeb-b606-ec122fba1046"
      },
      "execution_count": 6,
      "outputs": [
        {
          "output_type": "execute_result",
          "data": {
            "text/plain": [
              "int"
            ]
          },
          "metadata": {},
          "execution_count": 6
        }
      ]
    },
    {
      "cell_type": "code",
      "source": [
        "print(a)"
      ],
      "metadata": {
        "colab": {
          "base_uri": "https://localhost:8080/"
        },
        "id": "wkkt1hnkY7Em",
        "outputId": "04664af1-16f2-4a98-a709-25866631060e"
      },
      "execution_count": 7,
      "outputs": [
        {
          "output_type": "stream",
          "name": "stdout",
          "text": [
            "3\n"
          ]
        }
      ]
    },
    {
      "cell_type": "code",
      "source": [
        "a = 2\n",
        "b = 5\n",
        "print(a+b)"
      ],
      "metadata": {
        "colab": {
          "base_uri": "https://localhost:8080/"
        },
        "id": "nk98-ZnBY85u",
        "outputId": "28e8bae1-50b1-433e-c30b-aa01ce81875d"
      },
      "execution_count": 13,
      "outputs": [
        {
          "output_type": "stream",
          "name": "stdout",
          "text": [
            "7\n"
          ]
        }
      ]
    },
    {
      "cell_type": "code",
      "source": [
        "b = 4.5\n",
        "type(b)"
      ],
      "metadata": {
        "colab": {
          "base_uri": "https://localhost:8080/"
        },
        "id": "NPsF4cdLZLjy",
        "outputId": "f7663e36-20ad-4484-d258-882c453992a0"
      },
      "execution_count": 14,
      "outputs": [
        {
          "output_type": "execute_result",
          "data": {
            "text/plain": [
              "float"
            ]
          },
          "metadata": {},
          "execution_count": 14
        }
      ]
    },
    {
      "cell_type": "code",
      "source": [
        "print(\"python\", \"Aadarsh\", \"Mahesh\")"
      ],
      "metadata": {
        "colab": {
          "base_uri": "https://localhost:8080/"
        },
        "id": "26gSUypCZlI4",
        "outputId": "4d8449bb-eb0e-45d3-d4e4-04bc5905bd79"
      },
      "execution_count": 15,
      "outputs": [
        {
          "output_type": "stream",
          "name": "stdout",
          "text": [
            "python Aadarsh Mahesh\n"
          ]
        }
      ]
    },
    {
      "cell_type": "code",
      "source": [
        "print(\"Python\", \"Aadarsh\", \"Mahesh\", sep=', ')"
      ],
      "metadata": {
        "colab": {
          "base_uri": "https://localhost:8080/"
        },
        "id": "LOS401JeaGYm",
        "outputId": "4d72ddd4-a8f8-42ba-f75a-a4ee2a9e69b3"
      },
      "execution_count": 17,
      "outputs": [
        {
          "output_type": "stream",
          "name": "stdout",
          "text": [
            "Python, Aadarsh, Mahesh\n"
          ]
        }
      ]
    },
    {
      "cell_type": "markdown",
      "source": [
        "\n",
        "\n",
        "\n",
        "\n",
        "## 3. Compare and contrast mutable and immutable objects in Python with examples.\n",
        "\n",
        "   -> In Python, objects can be either changeable (modifiable) or unchangeable (unchangeable).\n",
        "\n",
        "    Mutable objects are lists, sets and dictionaries which can be modified after creation.\n",
        "\n",
        "    Immutable objects are Int, Float, tuples and strings which cannot be modified after creation.  "
      ],
      "metadata": {
        "id": "107Ho_J6ag6x"
      }
    },
    {
      "cell_type": "code",
      "source": [
        "#example\n",
        "a=[1,2,3,4]\n",
        "print(type(a))"
      ],
      "metadata": {
        "colab": {
          "base_uri": "https://localhost:8080/"
        },
        "id": "ImBxO1xRbTem",
        "outputId": "0d077f04-0c57-4cb4-8010-0db2a787ca98"
      },
      "execution_count": 48,
      "outputs": [
        {
          "output_type": "stream",
          "name": "stdout",
          "text": [
            "<class 'list'>\n"
          ]
        }
      ]
    },
    {
      "cell_type": "code",
      "source": [
        "a.append(45)"
      ],
      "metadata": {
        "id": "Z1MW9Rczc0s0"
      },
      "execution_count": 30,
      "outputs": []
    },
    {
      "cell_type": "code",
      "source": [
        "a"
      ],
      "metadata": {
        "colab": {
          "base_uri": "https://localhost:8080/"
        },
        "id": "1ikT3zPRdFa8",
        "outputId": "a3e1ffce-32a2-4469-ded1-5cb7328d6402"
      },
      "execution_count": 31,
      "outputs": [
        {
          "output_type": "execute_result",
          "data": {
            "text/plain": [
              "[1, 2, 3, 4, 45]"
            ]
          },
          "metadata": {},
          "execution_count": 31
        }
      ]
    },
    {
      "cell_type": "code",
      "source": [
        "list_cont = [1, 2, \"Ajay\", (3+4j), \"Aadarsh\", True]\n",
        "print(list_cont)"
      ],
      "metadata": {
        "colab": {
          "base_uri": "https://localhost:8080/"
        },
        "id": "dxVwDh5DdKeA",
        "outputId": "d0607a8e-05fb-460e-8bdc-0fc9b1f4bd4f"
      },
      "execution_count": 39,
      "outputs": [
        {
          "output_type": "stream",
          "name": "stdout",
          "text": [
            "[1, 2, 'Ajay', (3+4j), 'Aadarsh', True]\n"
          ]
        }
      ]
    },
    {
      "cell_type": "code",
      "source": [
        "list_cont[0]"
      ],
      "metadata": {
        "colab": {
          "base_uri": "https://localhost:8080/"
        },
        "id": "a2Mtg8x4d9DP",
        "outputId": "c90e20f1-fc7e-4399-cf00-3fa72a269767"
      },
      "execution_count": 40,
      "outputs": [
        {
          "output_type": "execute_result",
          "data": {
            "text/plain": [
              "1"
            ]
          },
          "metadata": {},
          "execution_count": 40
        }
      ]
    },
    {
      "cell_type": "code",
      "source": [
        "list_cont[5]"
      ],
      "metadata": {
        "colab": {
          "base_uri": "https://localhost:8080/"
        },
        "id": "LVSQ1muwekn9",
        "outputId": "7eef082a-ab59-449c-fb9c-f3ba615e2822"
      },
      "execution_count": 41,
      "outputs": [
        {
          "output_type": "execute_result",
          "data": {
            "text/plain": [
              "True"
            ]
          },
          "metadata": {},
          "execution_count": 41
        }
      ]
    },
    {
      "cell_type": "code",
      "source": [
        "type(list_cont)"
      ],
      "metadata": {
        "colab": {
          "base_uri": "https://localhost:8080/"
        },
        "id": "AkdgAAjAemxv",
        "outputId": "2cbd0446-d312-4be6-c5ad-b739fb1caaed"
      },
      "execution_count": 42,
      "outputs": [
        {
          "output_type": "execute_result",
          "data": {
            "text/plain": [
              "list"
            ]
          },
          "metadata": {},
          "execution_count": 42
        }
      ]
    },
    {
      "cell_type": "code",
      "source": [
        "list_cont[2]= \"Vijay\""
      ],
      "metadata": {
        "id": "BUx1-gTfew_M"
      },
      "execution_count": 43,
      "outputs": []
    },
    {
      "cell_type": "code",
      "source": [
        "list_cont       # As you see this list_cont is type of list and here we change ajay from vijay, so it it mutable. as it mentioned that list is mutable"
      ],
      "metadata": {
        "colab": {
          "base_uri": "https://localhost:8080/"
        },
        "id": "EAfYWSlte2z7",
        "outputId": "bd0857a0-385b-47fb-d436-cb2a3e7f4a93"
      },
      "execution_count": 46,
      "outputs": [
        {
          "output_type": "execute_result",
          "data": {
            "text/plain": [
              "[1, 2, 'Vijay', (3+4j), 'Aadarsh', True]"
            ]
          },
          "metadata": {},
          "execution_count": 46
        }
      ]
    },
    {
      "cell_type": "code",
      "source": [
        "#exmaple of immutable\n",
        "a=\"pwskills\""
      ],
      "metadata": {
        "id": "1TY8bagse3_f"
      },
      "execution_count": 49,
      "outputs": []
    },
    {
      "cell_type": "code",
      "source": [
        "type(a)"
      ],
      "metadata": {
        "colab": {
          "base_uri": "https://localhost:8080/"
        },
        "id": "3G855lYlfd21",
        "outputId": "cab7bb06-a7bf-4bb0-b28f-f66083b9bb7c"
      },
      "execution_count": 50,
      "outputs": [
        {
          "output_type": "execute_result",
          "data": {
            "text/plain": [
              "str"
            ]
          },
          "metadata": {},
          "execution_count": 50
        }
      ]
    },
    {
      "cell_type": "code",
      "source": [
        "a[0]= I     #as it is there that a is string and we tried to change p of pwskills from I but it shows error because string is immutable."
      ],
      "metadata": {
        "colab": {
          "base_uri": "https://localhost:8080/",
          "height": 141
        },
        "id": "RgFQSaX4ffcA",
        "outputId": "31339177-ac9e-4e9d-ac33-c048383dfb34"
      },
      "execution_count": 52,
      "outputs": [
        {
          "output_type": "error",
          "ename": "NameError",
          "evalue": "name 'I' is not defined",
          "traceback": [
            "\u001b[0;31m---------------------------------------------------------------------------\u001b[0m",
            "\u001b[0;31mNameError\u001b[0m                                 Traceback (most recent call last)",
            "\u001b[0;32m<ipython-input-52-e33c3d1d7f97>\u001b[0m in \u001b[0;36m<cell line: 0>\u001b[0;34m()\u001b[0m\n\u001b[0;32m----> 1\u001b[0;31m \u001b[0ma\u001b[0m\u001b[0;34m[\u001b[0m\u001b[0;36m0\u001b[0m\u001b[0;34m]\u001b[0m\u001b[0;34m=\u001b[0m \u001b[0mI\u001b[0m     \u001b[0;31m#as it is there that a is string and we tried to change p of pwskills from I but it shows error because string is immutable.\u001b[0m\u001b[0;34m\u001b[0m\u001b[0;34m\u001b[0m\u001b[0m\n\u001b[0m",
            "\u001b[0;31mNameError\u001b[0m: name 'I' is not defined"
          ]
        }
      ]
    },
    {
      "cell_type": "code",
      "source": [],
      "metadata": {
        "id": "xj_RPvsjfl1e"
      },
      "execution_count": null,
      "outputs": []
    },
    {
      "cell_type": "markdown",
      "source": [
        "# 4. Discuss the different types of operators in Python and provide examples of how they are used.\n",
        "   ->\n",
        "                                                         \n",
        "   1. Arithmetic Operators                             -     (value)\n",
        "   2. Comparison (Relational) Operators                -(Ture/False)\n",
        "   3. Assignment Operators                             -(value)\n",
        "   4. Logical Operators                               - (True/False)\n",
        "   5. Identity Operators-(True/False)\n",
        "   6. Membership Operators-(True/false)\n",
        "   7. Bitwise Operators-(Binary value)\n",
        "\n",
        "\n"
      ],
      "metadata": {
        "id": "cGhAcwqRf7Xr"
      }
    },
    {
      "cell_type": "code",
      "source": [
        "\n",
        "# Examples\n",
        "#Arithmetic operator\n",
        "a=5\n",
        "b=3\n",
        "print(a+b)     #addition"
      ],
      "metadata": {
        "colab": {
          "base_uri": "https://localhost:8080/"
        },
        "id": "LzDgp-4sg437",
        "outputId": "3c4522ae-bae9-4930-d045-7bf52c3bdf82"
      },
      "execution_count": 61,
      "outputs": [
        {
          "output_type": "stream",
          "name": "stdout",
          "text": [
            "8\n"
          ]
        }
      ]
    },
    {
      "cell_type": "code",
      "source": [
        "a-b     #subtraction"
      ],
      "metadata": {
        "colab": {
          "base_uri": "https://localhost:8080/"
        },
        "id": "9pe2ZoPzjik6",
        "outputId": "ff5e4858-c54b-44f4-98ac-80a51e952b56"
      },
      "execution_count": 62,
      "outputs": [
        {
          "output_type": "execute_result",
          "data": {
            "text/plain": [
              "2"
            ]
          },
          "metadata": {},
          "execution_count": 62
        }
      ]
    },
    {
      "cell_type": "code",
      "source": [
        "a*b     #multiplication"
      ],
      "metadata": {
        "colab": {
          "base_uri": "https://localhost:8080/"
        },
        "id": "xqIQFMczkVpf",
        "outputId": "015535cc-9041-4f7d-a775-a0c4a49baa19"
      },
      "execution_count": 63,
      "outputs": [
        {
          "output_type": "execute_result",
          "data": {
            "text/plain": [
              "15"
            ]
          },
          "metadata": {},
          "execution_count": 63
        }
      ]
    },
    {
      "cell_type": "code",
      "source": [
        "a/b   #division"
      ],
      "metadata": {
        "colab": {
          "base_uri": "https://localhost:8080/"
        },
        "id": "ItKbJnrxkXCg",
        "outputId": "5b56dde9-5d69-41eb-a0dd-ea73281c2de8"
      },
      "execution_count": 64,
      "outputs": [
        {
          "output_type": "execute_result",
          "data": {
            "text/plain": [
              "1.6666666666666667"
            ]
          },
          "metadata": {},
          "execution_count": 64
        }
      ]
    },
    {
      "cell_type": "code",
      "source": [
        "a//b   #floor division(not getting decimal and getting low value like ans is 1.34 then it will 1)"
      ],
      "metadata": {
        "colab": {
          "base_uri": "https://localhost:8080/"
        },
        "id": "Es9zrc_5kZ5_",
        "outputId": "3291cd79-8781-43b8-fc0a-91f3724c0496"
      },
      "execution_count": 65,
      "outputs": [
        {
          "output_type": "execute_result",
          "data": {
            "text/plain": [
              "1"
            ]
          },
          "metadata": {},
          "execution_count": 65
        }
      ]
    },
    {
      "cell_type": "code",
      "source": [
        "a%b     # to get reaminder"
      ],
      "metadata": {
        "colab": {
          "base_uri": "https://localhost:8080/"
        },
        "id": "dSeaZfHUkb-u",
        "outputId": "c4ce5346-f77c-44ab-ba02-b6c34d0548b1"
      },
      "execution_count": 66,
      "outputs": [
        {
          "output_type": "execute_result",
          "data": {
            "text/plain": [
              "2"
            ]
          },
          "metadata": {},
          "execution_count": 66
        }
      ]
    },
    {
      "cell_type": "code",
      "source": [
        "a**b   # to get power"
      ],
      "metadata": {
        "colab": {
          "base_uri": "https://localhost:8080/"
        },
        "id": "00VjyQNwkeNt",
        "outputId": "43e59dfc-3722-49b9-b20d-1061e7bfd272"
      },
      "execution_count": 67,
      "outputs": [
        {
          "output_type": "execute_result",
          "data": {
            "text/plain": [
              "125"
            ]
          },
          "metadata": {},
          "execution_count": 67
        }
      ]
    },
    {
      "cell_type": "code",
      "source": [
        "#comparison operator\n",
        "# example\n",
        "a=10\n",
        "b=15"
      ],
      "metadata": {
        "id": "Ge1u95S1kgGh"
      },
      "execution_count": 72,
      "outputs": []
    },
    {
      "cell_type": "code",
      "source": [
        "a==b    # equal to"
      ],
      "metadata": {
        "colab": {
          "base_uri": "https://localhost:8080/"
        },
        "id": "e-6UmonvlDkL",
        "outputId": "690deccd-b247-4732-8261-f9558e9af4af"
      },
      "execution_count": 73,
      "outputs": [
        {
          "output_type": "execute_result",
          "data": {
            "text/plain": [
              "False"
            ]
          },
          "metadata": {},
          "execution_count": 73
        }
      ]
    },
    {
      "cell_type": "code",
      "source": [
        "a!=b    # not equal to"
      ],
      "metadata": {
        "colab": {
          "base_uri": "https://localhost:8080/"
        },
        "id": "DDNpvs7clEfn",
        "outputId": "bc1961e9-9767-4316-88db-115bdb9555dc"
      },
      "execution_count": 74,
      "outputs": [
        {
          "output_type": "execute_result",
          "data": {
            "text/plain": [
              "True"
            ]
          },
          "metadata": {},
          "execution_count": 74
        }
      ]
    },
    {
      "cell_type": "code",
      "source": [
        "a>b    # greater than"
      ],
      "metadata": {
        "colab": {
          "base_uri": "https://localhost:8080/"
        },
        "id": "Bl_QJh59lMFU",
        "outputId": "d8679414-a65b-43a1-87ce-5c617b2ff196"
      },
      "execution_count": 75,
      "outputs": [
        {
          "output_type": "execute_result",
          "data": {
            "text/plain": [
              "False"
            ]
          },
          "metadata": {},
          "execution_count": 75
        }
      ]
    },
    {
      "cell_type": "code",
      "source": [
        "a<b    # less than"
      ],
      "metadata": {
        "colab": {
          "base_uri": "https://localhost:8080/"
        },
        "id": "gzo951hmlWsu",
        "outputId": "2afc801e-0d9d-4f67-901c-386d76b1e0cc"
      },
      "execution_count": 76,
      "outputs": [
        {
          "output_type": "execute_result",
          "data": {
            "text/plain": [
              "True"
            ]
          },
          "metadata": {},
          "execution_count": 76
        }
      ]
    },
    {
      "cell_type": "code",
      "source": [
        "a>=b   # grater or equal"
      ],
      "metadata": {
        "colab": {
          "base_uri": "https://localhost:8080/"
        },
        "id": "EKbc9yAdlbOV",
        "outputId": "7184fc81-8dff-4b3c-e71c-ae399b44e7f8"
      },
      "execution_count": 77,
      "outputs": [
        {
          "output_type": "execute_result",
          "data": {
            "text/plain": [
              "False"
            ]
          },
          "metadata": {},
          "execution_count": 77
        }
      ]
    },
    {
      "cell_type": "code",
      "source": [
        "a<=b   # less or equal"
      ],
      "metadata": {
        "colab": {
          "base_uri": "https://localhost:8080/"
        },
        "id": "g0ol2Mcrlftd",
        "outputId": "c122aab0-ecca-4eef-ad82-495911be9f5f"
      },
      "execution_count": 78,
      "outputs": [
        {
          "output_type": "execute_result",
          "data": {
            "text/plain": [
              "True"
            ]
          },
          "metadata": {},
          "execution_count": 78
        }
      ]
    },
    {
      "cell_type": "code",
      "source": [
        "#assignmnet operator\n",
        "# examples\n",
        "x=5"
      ],
      "metadata": {
        "id": "IJyJ3vG-liMU"
      },
      "execution_count": 80,
      "outputs": []
    },
    {
      "cell_type": "code",
      "source": [
        "x"
      ],
      "metadata": {
        "colab": {
          "base_uri": "https://localhost:8080/"
        },
        "id": "Qsu9l7C4lq1Z",
        "outputId": "2ed80891-979c-425f-e5c0-a670be0ac461"
      },
      "execution_count": 81,
      "outputs": [
        {
          "output_type": "execute_result",
          "data": {
            "text/plain": [
              "5"
            ]
          },
          "metadata": {},
          "execution_count": 81
        }
      ]
    },
    {
      "cell_type": "code",
      "source": [
        "x+=2"
      ],
      "metadata": {
        "id": "LU7aCUdtl8gw"
      },
      "execution_count": 91,
      "outputs": []
    },
    {
      "cell_type": "code",
      "source": [
        "x"
      ],
      "metadata": {
        "colab": {
          "base_uri": "https://localhost:8080/"
        },
        "id": "23VdSbRrmQgv",
        "outputId": "d790d3b9-ce7b-421b-bf8d-3779121a7796"
      },
      "execution_count": 92,
      "outputs": [
        {
          "output_type": "execute_result",
          "data": {
            "text/plain": [
              "9"
            ]
          },
          "metadata": {},
          "execution_count": 92
        }
      ]
    },
    {
      "cell_type": "code",
      "source": [
        "x-=2\n",
        "x"
      ],
      "metadata": {
        "colab": {
          "base_uri": "https://localhost:8080/"
        },
        "id": "jQCBTFpHmRJb",
        "outputId": "9813812b-baa6-48f1-c5fa-b82da8c027e2"
      },
      "execution_count": 93,
      "outputs": [
        {
          "output_type": "execute_result",
          "data": {
            "text/plain": [
              "7"
            ]
          },
          "metadata": {},
          "execution_count": 93
        }
      ]
    },
    {
      "cell_type": "code",
      "source": [
        "x*=2\n",
        "x"
      ],
      "metadata": {
        "colab": {
          "base_uri": "https://localhost:8080/"
        },
        "id": "6DsLymmImTOI",
        "outputId": "e3d858b3-b0a7-4c45-fcc1-e137768cf280"
      },
      "execution_count": 95,
      "outputs": [
        {
          "output_type": "execute_result",
          "data": {
            "text/plain": [
              "28"
            ]
          },
          "metadata": {},
          "execution_count": 95
        }
      ]
    },
    {
      "cell_type": "code",
      "source": [
        "x/=2\n",
        "x"
      ],
      "metadata": {
        "colab": {
          "base_uri": "https://localhost:8080/"
        },
        "id": "9ALlpY7ZmVS-",
        "outputId": "7d1ea93b-5424-42c5-9a00-c9342a9fbf86"
      },
      "execution_count": 96,
      "outputs": [
        {
          "output_type": "execute_result",
          "data": {
            "text/plain": [
              "14.0"
            ]
          },
          "metadata": {},
          "execution_count": 96
        }
      ]
    },
    {
      "cell_type": "code",
      "source": [
        "x//=2\n",
        "x"
      ],
      "metadata": {
        "colab": {
          "base_uri": "https://localhost:8080/"
        },
        "id": "QDEcNuGUmZRm",
        "outputId": "6f07a3f3-ec35-4c14-bae6-e67d5a10372a"
      },
      "execution_count": 97,
      "outputs": [
        {
          "output_type": "execute_result",
          "data": {
            "text/plain": [
              "7.0"
            ]
          },
          "metadata": {},
          "execution_count": 97
        }
      ]
    },
    {
      "cell_type": "code",
      "source": [
        "x%2\n",
        "x"
      ],
      "metadata": {
        "colab": {
          "base_uri": "https://localhost:8080/"
        },
        "id": "jOwfVg8KmbaG",
        "outputId": "ae4abf52-284f-4959-9a4e-ba1f8353ec45"
      },
      "execution_count": 98,
      "outputs": [
        {
          "output_type": "execute_result",
          "data": {
            "text/plain": [
              "7.0"
            ]
          },
          "metadata": {},
          "execution_count": 98
        }
      ]
    },
    {
      "cell_type": "code",
      "source": [
        "x**2\n",
        "x"
      ],
      "metadata": {
        "colab": {
          "base_uri": "https://localhost:8080/"
        },
        "id": "WYP59fUwmkAo",
        "outputId": "3ee1a9a1-64fd-43a8-f7d3-cf4dd41e6d8d"
      },
      "execution_count": 99,
      "outputs": [
        {
          "output_type": "execute_result",
          "data": {
            "text/plain": [
              "7.0"
            ]
          },
          "metadata": {},
          "execution_count": 99
        }
      ]
    },
    {
      "cell_type": "code",
      "source": [
        "#Logical operators\n",
        "#example\n",
        "# and  # Or  # not"
      ],
      "metadata": {
        "id": "Fb9mIS1jmmca"
      },
      "execution_count": 100,
      "outputs": []
    },
    {
      "cell_type": "code",
      "source": [
        "True and True"
      ],
      "metadata": {
        "colab": {
          "base_uri": "https://localhost:8080/"
        },
        "id": "2Tl05exmnNU0",
        "outputId": "924bc2a9-941a-4491-af6b-d5932727fec4"
      },
      "execution_count": 101,
      "outputs": [
        {
          "output_type": "execute_result",
          "data": {
            "text/plain": [
              "True"
            ]
          },
          "metadata": {},
          "execution_count": 101
        }
      ]
    },
    {
      "cell_type": "code",
      "source": [
        "True and False"
      ],
      "metadata": {
        "colab": {
          "base_uri": "https://localhost:8080/"
        },
        "id": "x_DdYLRZnPFO",
        "outputId": "3144c5a2-8675-4192-cf3b-0d2da2a25e09"
      },
      "execution_count": 102,
      "outputs": [
        {
          "output_type": "execute_result",
          "data": {
            "text/plain": [
              "False"
            ]
          },
          "metadata": {},
          "execution_count": 102
        }
      ]
    },
    {
      "cell_type": "code",
      "source": [
        "False and True"
      ],
      "metadata": {
        "colab": {
          "base_uri": "https://localhost:8080/"
        },
        "id": "F75QJvC-nQeE",
        "outputId": "eb17b119-19c6-431e-ea92-3a9b4b2aac0c"
      },
      "execution_count": 103,
      "outputs": [
        {
          "output_type": "execute_result",
          "data": {
            "text/plain": [
              "False"
            ]
          },
          "metadata": {},
          "execution_count": 103
        }
      ]
    },
    {
      "cell_type": "code",
      "source": [
        "False and False"
      ],
      "metadata": {
        "colab": {
          "base_uri": "https://localhost:8080/"
        },
        "id": "v8JxULKSnU9t",
        "outputId": "b98ca2e4-5625-4933-92b2-48f8ff5c88bc"
      },
      "execution_count": 104,
      "outputs": [
        {
          "output_type": "execute_result",
          "data": {
            "text/plain": [
              "False"
            ]
          },
          "metadata": {},
          "execution_count": 104
        }
      ]
    },
    {
      "cell_type": "code",
      "source": [
        "True or True"
      ],
      "metadata": {
        "colab": {
          "base_uri": "https://localhost:8080/"
        },
        "id": "F0WESTfknW0d",
        "outputId": "2d8398b0-d620-47c2-a67d-d9e57a334710"
      },
      "execution_count": 105,
      "outputs": [
        {
          "output_type": "execute_result",
          "data": {
            "text/plain": [
              "True"
            ]
          },
          "metadata": {},
          "execution_count": 105
        }
      ]
    },
    {
      "cell_type": "code",
      "source": [
        "True or False"
      ],
      "metadata": {
        "colab": {
          "base_uri": "https://localhost:8080/"
        },
        "id": "yVxuXWXKned5",
        "outputId": "8493f6cb-7ea2-44c8-c90d-cf6a94db68e2"
      },
      "execution_count": 106,
      "outputs": [
        {
          "output_type": "execute_result",
          "data": {
            "text/plain": [
              "True"
            ]
          },
          "metadata": {},
          "execution_count": 106
        }
      ]
    },
    {
      "cell_type": "code",
      "source": [
        "False or True"
      ],
      "metadata": {
        "colab": {
          "base_uri": "https://localhost:8080/"
        },
        "id": "OKKG_gCmngUm",
        "outputId": "dbe37442-c181-45cb-bbd6-8031b7361cd6"
      },
      "execution_count": 107,
      "outputs": [
        {
          "output_type": "execute_result",
          "data": {
            "text/plain": [
              "True"
            ]
          },
          "metadata": {},
          "execution_count": 107
        }
      ]
    },
    {
      "cell_type": "code",
      "source": [
        "False or False"
      ],
      "metadata": {
        "colab": {
          "base_uri": "https://localhost:8080/"
        },
        "id": "Ts3ulru-nhqw",
        "outputId": "a0fdbe55-64ff-4688-b160-552e61a39338"
      },
      "execution_count": 108,
      "outputs": [
        {
          "output_type": "execute_result",
          "data": {
            "text/plain": [
              "False"
            ]
          },
          "metadata": {},
          "execution_count": 108
        }
      ]
    },
    {
      "cell_type": "code",
      "source": [
        "# Identity operator\n",
        "# is  # is not\n",
        "a=b"
      ],
      "metadata": {
        "id": "L4aiygPTn_iE"
      },
      "execution_count": 113,
      "outputs": []
    },
    {
      "cell_type": "code",
      "source": [
        "a is b"
      ],
      "metadata": {
        "colab": {
          "base_uri": "https://localhost:8080/"
        },
        "id": "xu0a90PNoFre",
        "outputId": "62d3636d-c3ed-4ddc-ca6d-212fbacb5ed2"
      },
      "execution_count": 114,
      "outputs": [
        {
          "output_type": "execute_result",
          "data": {
            "text/plain": [
              "True"
            ]
          },
          "metadata": {},
          "execution_count": 114
        }
      ]
    },
    {
      "cell_type": "code",
      "source": [
        "a is not b"
      ],
      "metadata": {
        "colab": {
          "base_uri": "https://localhost:8080/"
        },
        "id": "kRoFZHsOoMwy",
        "outputId": "05901948-c26f-4349-9490-3567f2effe99"
      },
      "execution_count": 115,
      "outputs": [
        {
          "output_type": "execute_result",
          "data": {
            "text/plain": [
              "False"
            ]
          },
          "metadata": {},
          "execution_count": 115
        }
      ]
    },
    {
      "cell_type": "code",
      "source": [
        "# Membership operator\n",
        "# True if value exist\n",
        "# False if value not exist\n",
        "a= \"apple\""
      ],
      "metadata": {
        "id": "zLWZ0ZsEoN_H"
      },
      "execution_count": 117,
      "outputs": []
    },
    {
      "cell_type": "code",
      "source": [
        "a in \"apple\""
      ],
      "metadata": {
        "colab": {
          "base_uri": "https://localhost:8080/"
        },
        "id": "IWFK1JCrojTV",
        "outputId": "ce799afb-302f-4606-9e15-05d4bbc4f15b"
      },
      "execution_count": 119,
      "outputs": [
        {
          "output_type": "execute_result",
          "data": {
            "text/plain": [
              "True"
            ]
          },
          "metadata": {},
          "execution_count": 119
        }
      ]
    },
    {
      "cell_type": "code",
      "source": [
        "\"x\" in \"apple\""
      ],
      "metadata": {
        "colab": {
          "base_uri": "https://localhost:8080/"
        },
        "id": "Khd1T9LMon0y",
        "outputId": "df84258a-c6a1-47a8-f104-4c893ba2c6ce"
      },
      "execution_count": 121,
      "outputs": [
        {
          "output_type": "execute_result",
          "data": {
            "text/plain": [
              "False"
            ]
          },
          "metadata": {},
          "execution_count": 121
        }
      ]
    },
    {
      "cell_type": "code",
      "source": [
        "#bitwise Operator\n",
        "#and, ~, Xor, left shift, right shift\n"
      ],
      "metadata": {
        "id": "j3FQ8TQ1or82"
      },
      "execution_count": 122,
      "outputs": []
    },
    {
      "cell_type": "code",
      "source": [
        "5 and 2"
      ],
      "metadata": {
        "colab": {
          "base_uri": "https://localhost:8080/"
        },
        "id": "NDJY9ElmpBYA",
        "outputId": "2dd350a4-0f05-4b2f-d56f-2e5d5763bd19"
      },
      "execution_count": 127,
      "outputs": [
        {
          "output_type": "execute_result",
          "data": {
            "text/plain": [
              "2"
            ]
          },
          "metadata": {},
          "execution_count": 127
        }
      ]
    },
    {
      "cell_type": "code",
      "source": [
        "bin(5)       # binary value of 5 is 101 and value of 2 is 10 and when we calculate this we get 10 as a boolean value of 2"
      ],
      "metadata": {
        "colab": {
          "base_uri": "https://localhost:8080/",
          "height": 36
        },
        "id": "JujCxBtBpFYu",
        "outputId": "8541d635-aded-4eaa-f43a-8d48193acc44"
      },
      "execution_count": 134,
      "outputs": [
        {
          "output_type": "execute_result",
          "data": {
            "text/plain": [
              "'0b101'"
            ],
            "application/vnd.google.colaboratory.intrinsic+json": {
              "type": "string"
            }
          },
          "metadata": {},
          "execution_count": 134
        }
      ]
    },
    {
      "cell_type": "code",
      "source": [
        "bin(2)"
      ],
      "metadata": {
        "colab": {
          "base_uri": "https://localhost:8080/",
          "height": 36
        },
        "id": "Fnsh4vC3pHbh",
        "outputId": "46fa5e0e-4f31-454c-bc21-51cf497bba30"
      },
      "execution_count": 128,
      "outputs": [
        {
          "output_type": "execute_result",
          "data": {
            "text/plain": [
              "'0b10'"
            ],
            "application/vnd.google.colaboratory.intrinsic+json": {
              "type": "string"
            }
          },
          "metadata": {},
          "execution_count": 128
        }
      ]
    },
    {
      "cell_type": "code",
      "source": [
        "bin(2)"
      ],
      "metadata": {
        "colab": {
          "base_uri": "https://localhost:8080/",
          "height": 36
        },
        "id": "-L_KeGKDpI0y",
        "outputId": "a6a22ae0-40af-490b-a24e-05556faf1060"
      },
      "execution_count": 129,
      "outputs": [
        {
          "output_type": "execute_result",
          "data": {
            "text/plain": [
              "'0b10'"
            ],
            "application/vnd.google.colaboratory.intrinsic+json": {
              "type": "string"
            }
          },
          "metadata": {},
          "execution_count": 129
        }
      ]
    },
    {
      "cell_type": "code",
      "source": [
        "5 or 8"
      ],
      "metadata": {
        "colab": {
          "base_uri": "https://localhost:8080/"
        },
        "id": "w5INqXGwpOUW",
        "outputId": "6319a3d2-5ade-4b6d-9295-b2974a1593b9"
      },
      "execution_count": 130,
      "outputs": [
        {
          "output_type": "execute_result",
          "data": {
            "text/plain": [
              "5"
            ]
          },
          "metadata": {},
          "execution_count": 130
        }
      ]
    },
    {
      "cell_type": "code",
      "source": [
        "bin(5)"
      ],
      "metadata": {
        "colab": {
          "base_uri": "https://localhost:8080/",
          "height": 36
        },
        "id": "FNiQvyTOpQdw",
        "outputId": "121f97b5-563c-495f-ad67-4f19a65dd68b"
      },
      "execution_count": 131,
      "outputs": [
        {
          "output_type": "execute_result",
          "data": {
            "text/plain": [
              "'0b101'"
            ],
            "application/vnd.google.colaboratory.intrinsic+json": {
              "type": "string"
            }
          },
          "metadata": {},
          "execution_count": 131
        }
      ]
    },
    {
      "cell_type": "code",
      "source": [
        "bin(8)"
      ],
      "metadata": {
        "colab": {
          "base_uri": "https://localhost:8080/",
          "height": 36
        },
        "id": "W4HDpma9pSKr",
        "outputId": "e45ad33c-802e-4c2a-ef36-775e51152de6"
      },
      "execution_count": 132,
      "outputs": [
        {
          "output_type": "execute_result",
          "data": {
            "text/plain": [
              "'0b1000'"
            ],
            "application/vnd.google.colaboratory.intrinsic+json": {
              "type": "string"
            }
          },
          "metadata": {},
          "execution_count": 132
        }
      ]
    },
    {
      "cell_type": "code",
      "source": [
        "bin(8)"
      ],
      "metadata": {
        "colab": {
          "base_uri": "https://localhost:8080/",
          "height": 36
        },
        "id": "sYpl2vKDpTZ5",
        "outputId": "d4f7d267-40ef-4795-94fa-2b4c549253bc"
      },
      "execution_count": 133,
      "outputs": [
        {
          "output_type": "execute_result",
          "data": {
            "text/plain": [
              "'0b1000'"
            ],
            "application/vnd.google.colaboratory.intrinsic+json": {
              "type": "string"
            }
          },
          "metadata": {},
          "execution_count": 133
        }
      ]
    },
    {
      "cell_type": "code",
      "source": [
        "5^3   #xor"
      ],
      "metadata": {
        "colab": {
          "base_uri": "https://localhost:8080/"
        },
        "id": "QfuOcDAUpUqW",
        "outputId": "dcea2355-678d-4ba1-e88f-beec715dc594"
      },
      "execution_count": 135,
      "outputs": [
        {
          "output_type": "execute_result",
          "data": {
            "text/plain": [
              "6"
            ]
          },
          "metadata": {},
          "execution_count": 135
        }
      ]
    },
    {
      "cell_type": "code",
      "source": [
        "~5   #not"
      ],
      "metadata": {
        "colab": {
          "base_uri": "https://localhost:8080/"
        },
        "id": "lVJb2loZpn72",
        "outputId": "52f5ebe1-03ec-4c61-ac60-45c5e7b7b3fe"
      },
      "execution_count": 138,
      "outputs": [
        {
          "output_type": "execute_result",
          "data": {
            "text/plain": [
              "-6"
            ]
          },
          "metadata": {},
          "execution_count": 138
        }
      ]
    },
    {
      "cell_type": "code",
      "source": [
        "35<<3   # left side>>in this 0 added to the right of value"
      ],
      "metadata": {
        "colab": {
          "base_uri": "https://localhost:8080/"
        },
        "id": "X235QURwpqSa",
        "outputId": "82f81524-7a33-4074-dcb4-9ca2c2d0b3a1"
      },
      "execution_count": 144,
      "outputs": [
        {
          "output_type": "execute_result",
          "data": {
            "text/plain": [
              "280"
            ]
          },
          "metadata": {},
          "execution_count": 144
        }
      ]
    },
    {
      "cell_type": "code",
      "source": [
        "bin(35)   # as you look here binary value of 35 is 100011 and its added 3 0s in this and it will become 100011000"
      ],
      "metadata": {
        "colab": {
          "base_uri": "https://localhost:8080/",
          "height": 36
        },
        "id": "v4mqeaHkp6UA",
        "outputId": "3f589be9-a94f-4569-c2a5-0776d4bc457e"
      },
      "execution_count": 148,
      "outputs": [
        {
          "output_type": "execute_result",
          "data": {
            "text/plain": [
              "'0b100011'"
            ],
            "application/vnd.google.colaboratory.intrinsic+json": {
              "type": "string"
            }
          },
          "metadata": {},
          "execution_count": 148
        }
      ]
    },
    {
      "cell_type": "code",
      "source": [
        "bin(280)"
      ],
      "metadata": {
        "colab": {
          "base_uri": "https://localhost:8080/",
          "height": 36
        },
        "id": "2js9pjsxqIsl",
        "outputId": "278e5a4b-4678-45eb-c572-2fc6d36e36a1"
      },
      "execution_count": 147,
      "outputs": [
        {
          "output_type": "execute_result",
          "data": {
            "text/plain": [
              "'0b100011000'"
            ],
            "application/vnd.google.colaboratory.intrinsic+json": {
              "type": "string"
            }
          },
          "metadata": {},
          "execution_count": 147
        }
      ]
    },
    {
      "cell_type": "code",
      "source": [
        "280>>3   # right side >> in this 0 removes from the value"
      ],
      "metadata": {
        "colab": {
          "base_uri": "https://localhost:8080/"
        },
        "id": "RERqjgg1qJ0P",
        "outputId": "1898c2ec-2063-4c73-828e-826dca5a2be9"
      },
      "execution_count": 150,
      "outputs": [
        {
          "output_type": "execute_result",
          "data": {
            "text/plain": [
              "35"
            ]
          },
          "metadata": {},
          "execution_count": 150
        }
      ]
    },
    {
      "cell_type": "code",
      "source": [
        "bin(280)     # as you look here binary value of 280 is 100011000 and its remove 3 0s  in this and it will become 100011"
      ],
      "metadata": {
        "colab": {
          "base_uri": "https://localhost:8080/",
          "height": 36
        },
        "id": "MqvePVDkqxtL",
        "outputId": "f4f8db04-a347-4e5c-fcec-a33b416f7fad"
      },
      "execution_count": 151,
      "outputs": [
        {
          "output_type": "execute_result",
          "data": {
            "text/plain": [
              "'0b100011000'"
            ],
            "application/vnd.google.colaboratory.intrinsic+json": {
              "type": "string"
            }
          },
          "metadata": {},
          "execution_count": 151
        }
      ]
    },
    {
      "cell_type": "code",
      "source": [
        "bin(35)"
      ],
      "metadata": {
        "colab": {
          "base_uri": "https://localhost:8080/",
          "height": 36
        },
        "id": "pPgDBUciq-52",
        "outputId": "1ab25296-b3b2-4b03-ec9f-f552acc1a829"
      },
      "execution_count": 152,
      "outputs": [
        {
          "output_type": "execute_result",
          "data": {
            "text/plain": [
              "'0b100011'"
            ],
            "application/vnd.google.colaboratory.intrinsic+json": {
              "type": "string"
            }
          },
          "metadata": {},
          "execution_count": 152
        }
      ]
    },
    {
      "cell_type": "code",
      "source": [],
      "metadata": {
        "id": "FVFhVMpWrAYT"
      },
      "execution_count": null,
      "outputs": []
    },
    {
      "cell_type": "markdown",
      "source": [
        "#Explain the concept of type casting in Python with examples.\n",
        " -> Type casting is also known as type conversion, it is the process of  \n",
        "    changing one data type to another in Python.\n",
        "\n",
        "Python provides built-in functions for type casting, such as int, float, str,\n",
        " list, tuple, dict, etc."
      ],
      "metadata": {
        "id": "_UoNFJSrrYzB"
      }
    },
    {
      "cell_type": "code",
      "source": [
        "#examples\n",
        "a=\"2\"\n",
        "type(a)"
      ],
      "metadata": {
        "colab": {
          "base_uri": "https://localhost:8080/"
        },
        "id": "QmSGpaB9sF5Y",
        "outputId": "d6149778-d510-47a2-91cf-8fc68eeb38ad"
      },
      "execution_count": 154,
      "outputs": [
        {
          "output_type": "execute_result",
          "data": {
            "text/plain": [
              "str"
            ]
          },
          "metadata": {},
          "execution_count": 154
        }
      ]
    },
    {
      "cell_type": "code",
      "source": [
        "a+5     # as ypu look here we cannot add \"a\" to 5  because a is string and 5 is int"
      ],
      "metadata": {
        "colab": {
          "base_uri": "https://localhost:8080/",
          "height": 141
        },
        "id": "iySqDmxHsH7n",
        "outputId": "4f54433c-c101-492f-c863-3f4565549752"
      },
      "execution_count": 155,
      "outputs": [
        {
          "output_type": "error",
          "ename": "TypeError",
          "evalue": "can only concatenate str (not \"int\") to str",
          "traceback": [
            "\u001b[0;31m---------------------------------------------------------------------------\u001b[0m",
            "\u001b[0;31mTypeError\u001b[0m                                 Traceback (most recent call last)",
            "\u001b[0;32m<ipython-input-155-e98afb785531>\u001b[0m in \u001b[0;36m<cell line: 0>\u001b[0;34m()\u001b[0m\n\u001b[0;32m----> 1\u001b[0;31m \u001b[0ma\u001b[0m\u001b[0;34m+\u001b[0m\u001b[0;36m5\u001b[0m\u001b[0;34m\u001b[0m\u001b[0;34m\u001b[0m\u001b[0m\n\u001b[0m",
            "\u001b[0;31mTypeError\u001b[0m: can only concatenate str (not \"int\") to str"
          ]
        }
      ]
    },
    {
      "cell_type": "code",
      "source": [
        "#string to int\n",
        "int(a)+5"
      ],
      "metadata": {
        "colab": {
          "base_uri": "https://localhost:8080/"
        },
        "id": "cVOXn3PlseWC",
        "outputId": "3e2d35c7-0563-4983-9844-e95aca4cbc79"
      },
      "execution_count": 156,
      "outputs": [
        {
          "output_type": "execute_result",
          "data": {
            "text/plain": [
              "7"
            ]
          },
          "metadata": {},
          "execution_count": 156
        }
      ]
    },
    {
      "cell_type": "code",
      "source": [
        "#float to int\n",
        "a=3.5\n",
        "type(a)"
      ],
      "metadata": {
        "colab": {
          "base_uri": "https://localhost:8080/"
        },
        "id": "tJ3IY1v_swTx",
        "outputId": "927f9b77-0ceb-4361-ad80-0b61470a0381"
      },
      "execution_count": 157,
      "outputs": [
        {
          "output_type": "execute_result",
          "data": {
            "text/plain": [
              "float"
            ]
          },
          "metadata": {},
          "execution_count": 157
        }
      ]
    },
    {
      "cell_type": "code",
      "source": [
        "int(a)"
      ],
      "metadata": {
        "colab": {
          "base_uri": "https://localhost:8080/"
        },
        "id": "RvVLu5gFtPpI",
        "outputId": "25d0725c-7b81-44a8-9b61-80259f39173d"
      },
      "execution_count": 158,
      "outputs": [
        {
          "output_type": "execute_result",
          "data": {
            "text/plain": [
              "3"
            ]
          },
          "metadata": {},
          "execution_count": 158
        }
      ]
    },
    {
      "cell_type": "code",
      "source": [
        "#int to float\n",
        "a=5\n",
        "type(a)"
      ],
      "metadata": {
        "colab": {
          "base_uri": "https://localhost:8080/"
        },
        "id": "Cp6fw9MwtRIT",
        "outputId": "629eebfd-3b0e-4162-af7e-2106ccff043d"
      },
      "execution_count": 159,
      "outputs": [
        {
          "output_type": "execute_result",
          "data": {
            "text/plain": [
              "int"
            ]
          },
          "metadata": {},
          "execution_count": 159
        }
      ]
    },
    {
      "cell_type": "code",
      "source": [
        "b= float(a)\n",
        "b"
      ],
      "metadata": {
        "colab": {
          "base_uri": "https://localhost:8080/"
        },
        "id": "9nWJUlb9t_9L",
        "outputId": "1132ccbb-3358-48f0-e06d-1a98c1d68096"
      },
      "execution_count": 173,
      "outputs": [
        {
          "output_type": "execute_result",
          "data": {
            "text/plain": [
              "5.0"
            ]
          },
          "metadata": {},
          "execution_count": 173
        }
      ]
    },
    {
      "cell_type": "code",
      "source": [
        "#string to float\n",
        "a=\"2.3\"\n",
        "type(a)"
      ],
      "metadata": {
        "colab": {
          "base_uri": "https://localhost:8080/"
        },
        "id": "rpNCsTsuuDRo",
        "outputId": "53466c5b-75e1-49d6-abe8-b57972faa75f"
      },
      "execution_count": 174,
      "outputs": [
        {
          "output_type": "execute_result",
          "data": {
            "text/plain": [
              "str"
            ]
          },
          "metadata": {},
          "execution_count": 174
        }
      ]
    },
    {
      "cell_type": "code",
      "source": [
        "float(a)"
      ],
      "metadata": {
        "colab": {
          "base_uri": "https://localhost:8080/"
        },
        "id": "nn_HOT06uUje",
        "outputId": "6029f848-742b-4713-eb35-fdd4f22e6f04"
      },
      "execution_count": 175,
      "outputs": [
        {
          "output_type": "execute_result",
          "data": {
            "text/plain": [
              "2.3"
            ]
          },
          "metadata": {},
          "execution_count": 175
        }
      ]
    },
    {
      "cell_type": "code",
      "source": [
        "#implicit typecasting\n",
        "2+3.5"
      ],
      "metadata": {
        "colab": {
          "base_uri": "https://localhost:8080/"
        },
        "id": "Runa_p7auXkQ",
        "outputId": "45a6f1e6-b3da-4e25-e630-e12348b5229a"
      },
      "execution_count": 177,
      "outputs": [
        {
          "output_type": "execute_result",
          "data": {
            "text/plain": [
              "5.5"
            ]
          },
          "metadata": {},
          "execution_count": 177
        }
      ]
    },
    {
      "cell_type": "code",
      "source": [
        "#explicit typecasting\n",
        "a=\"Aadarsh\"\n",
        "b=\" Gupta\"\n",
        "a+b"
      ],
      "metadata": {
        "colab": {
          "base_uri": "https://localhost:8080/",
          "height": 36
        },
        "id": "Zat4Mp-wusaw",
        "outputId": "15b5068b-0eb3-4cd9-838b-fd1afe956560"
      },
      "execution_count": 179,
      "outputs": [
        {
          "output_type": "execute_result",
          "data": {
            "text/plain": [
              "'Aadarsh Gupta'"
            ],
            "application/vnd.google.colaboratory.intrinsic+json": {
              "type": "string"
            }
          },
          "metadata": {},
          "execution_count": 179
        }
      ]
    },
    {
      "cell_type": "markdown",
      "source": [
        "#6. How do conditional statements work in Python? Illustrate with examples\n",
        "-> Conditional statements in Python allow you to make decisions in your code—basically, they help you control the flow based on certain conditions.\n",
        "\n",
        "Python supports conditional statements such as if, elif (else if), and else to control the flow of execution."
      ],
      "metadata": {
        "id": "SkOhHA5YvPrY"
      }
    },
    {
      "cell_type": "code",
      "source": [],
      "metadata": {
        "id": "XJbZCuGpw7Ak"
      },
      "execution_count": null,
      "outputs": []
    },
    {
      "cell_type": "markdown",
      "source": [
        "# 7.Describe the different types of loops in Python and their use cases with examples.\n",
        "->In Python, loops are employed to repeat a sequence of actions or code until a specific condition is fulfilled.\n",
        "\n",
        "Python offers two primary types of loops: for loops and while loops.\n",
        "\n",
        "1. for\n",
        "2. while\n",
        "3. nested"
      ],
      "metadata": {
        "id": "rRPwC6yPw7kT"
      }
    },
    {
      "cell_type": "code",
      "source": [],
      "metadata": {
        "id": "yVmHEuiXxR6q"
      },
      "execution_count": null,
      "outputs": []
    }
  ]
}